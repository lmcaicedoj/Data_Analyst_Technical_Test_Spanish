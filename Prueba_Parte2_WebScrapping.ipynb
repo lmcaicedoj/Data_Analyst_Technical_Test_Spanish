{
 "cells": [
  {
   "cell_type": "markdown",
   "metadata": {},
   "source": [
    "### (1) Librerias"
   ]
  },
  {
   "cell_type": "code",
   "execution_count": 2,
   "metadata": {},
   "outputs": [],
   "source": [
    "import requests\n",
    "from bs4 import BeautifulSoup\n",
    "import trafilatura"
   ]
  },
  {
   "cell_type": "code",
   "execution_count": 31,
   "metadata": {},
   "outputs": [],
   "source": [
    "import numpy as np\n",
    "import pandas as pd"
   ]
  },
  {
   "cell_type": "code",
   "execution_count": 1,
   "metadata": {},
   "outputs": [
    {
     "name": "stdout",
     "output_type": "stream",
     "text": [
      "Requirement already satisfied: nltk in c:\\users\\luisc\\appdata\\local\\packages\\pythonsoftwarefoundation.python.3.9_qbz5n2kfra8p0\\localcache\\local-packages\\python39\\site-packages (3.7)\n",
      "Requirement already satisfied: click in c:\\users\\luisc\\appdata\\local\\packages\\pythonsoftwarefoundation.python.3.9_qbz5n2kfra8p0\\localcache\\local-packages\\python39\\site-packages (from nltk) (8.1.3)\n",
      "Requirement already satisfied: regex>=2021.8.3 in c:\\users\\luisc\\appdata\\local\\packages\\pythonsoftwarefoundation.python.3.9_qbz5n2kfra8p0\\localcache\\local-packages\\python39\\site-packages (from nltk) (2022.3.2)\n",
      "Requirement already satisfied: joblib in c:\\users\\luisc\\appdata\\local\\packages\\pythonsoftwarefoundation.python.3.9_qbz5n2kfra8p0\\localcache\\local-packages\\python39\\site-packages (from nltk) (1.1.0)\n",
      "Requirement already satisfied: tqdm in c:\\users\\luisc\\appdata\\local\\packages\\pythonsoftwarefoundation.python.3.9_qbz5n2kfra8p0\\localcache\\local-packages\\python39\\site-packages (from nltk) (4.64.1)\n",
      "Requirement already satisfied: colorama in c:\\users\\luisc\\appdata\\local\\packages\\pythonsoftwarefoundation.python.3.9_qbz5n2kfra8p0\\localcache\\local-packages\\python39\\site-packages (from click->nltk) (0.4.4)\n"
     ]
    }
   ],
   "source": [
    "!pip install nltk"
   ]
  },
  {
   "cell_type": "code",
   "execution_count": 18,
   "metadata": {},
   "outputs": [],
   "source": [
    "import nltk\n",
    "from nltk.tokenize import sent_tokenize, word_tokenize, RegexpTokenizer # 1st Tokenize\n",
    "from nltk.corpus import stopwords #2nd Stopwords removal\n",
    "from nltk.stem import PorterStemmer, LancasterStemmer #3rd Stemming0"
   ]
  },
  {
   "cell_type": "code",
   "execution_count": 22,
   "metadata": {},
   "outputs": [
    {
     "name": "stderr",
     "output_type": "stream",
     "text": [
      "[nltk_data] Downloading package stopwords to\n",
      "[nltk_data]     C:\\Users\\luisc\\AppData\\Roaming\\nltk_data...\n",
      "[nltk_data]   Package stopwords is already up-to-date!\n"
     ]
    },
    {
     "data": {
      "text/plain": [
       "True"
      ]
     },
     "execution_count": 22,
     "metadata": {},
     "output_type": "execute_result"
    }
   ],
   "source": [
    "nltk.download('stopwords')"
   ]
  },
  {
   "cell_type": "code",
   "execution_count": 64,
   "metadata": {},
   "outputs": [],
   "source": [
    "from collections import Counter"
   ]
  },
  {
   "cell_type": "code",
   "execution_count": 70,
   "metadata": {},
   "outputs": [],
   "source": [
    "import string"
   ]
  },
  {
   "cell_type": "markdown",
   "metadata": {},
   "source": [
    "### (2) Extraccion del texto desde la Web (Webscraping)"
   ]
  },
  {
   "cell_type": "code",
   "execution_count": 84,
   "metadata": {},
   "outputs": [],
   "source": [
    "# Opcion 1\n",
    "URL = \"https://www.epdlp.com/texto.php?id2=557\"\n",
    "page = requests.get(URL)\n",
    "soup = BeautifulSoup(page.content, \"html.parser\")\n",
    "#soup"
   ]
  },
  {
   "cell_type": "code",
   "execution_count": 92,
   "metadata": {},
   "outputs": [],
   "source": [
    "# Opcion 2\n",
    "downloaded = trafilatura.fetch_url('https://www.epdlp.com/texto.php?id2=557')\n",
    "extracto = trafilatura.extract(downloaded)"
   ]
  },
  {
   "cell_type": "markdown",
   "metadata": {},
   "source": [
    "### (3) Validacion del texto extraido"
   ]
  },
  {
   "cell_type": "code",
   "execution_count": 93,
   "metadata": {},
   "outputs": [
    {
     "data": {
      "text/plain": [
       "'Cien años de soledad (fragmento)\\n\"Muchos años después, frente al pelotón de fusilamiento, el coronel Aureliano Buendía había de recordar aquella tarde remota en que su padre lo llevó a conocer el hielo. Macondo era entonces una aldea de veinte casas de barro y cañabrava construida a la orilla de un río de aguas diáfanas que se precipitaban por un lecho de piedras pulidas, blancas y enormes como huevos prehistóricos. El mundo era tan reciente, que muchas cosas carecían de nombre, y para mencionarlas había que señalarlas con el dedo.\\n(...)\\nJosé Arcadio Buendía, que era el hombre más emprendedor que se vería jamás en la aldea, había dispuesto de tal modo la posición de las casas, que desde todas podía llegarse al río y abastecerse de agua con igual esfuerzo, y trazó las calles con tan buen sentido que ninguna casa recibía más sol que otra a la hora del calor. En pocos años, Macondo fue una aldea más ordenada y laboriosa que cualquiera de las conocidas hasta entonces por sus trescientos habitantes. Era en verdad una aldea feliz, donde nadie era mayor de treinta años y donde nadie había muerto.\\n(...)\\nVio una mujer vestida de oro en el cogote de un elefante. Vio un dromedario triste. Vio un oso vestido de holandesa que marcaba el compás de la música con un cucharón y una cacerola. Vio a los payasos haciendo maromas en la cola del desfile, y le vio otra vez la cara a su soledad miserable cuando todo acabó de pasar, y no quedó sino el luminoso espacio en la calle, y el aire lleno de hormigas voladoras, y unos cuantos curiosos asomados al precipicio de la incertidumbre. Entonces fue el castaño, pensando en el circo, y mientras orinaba trató de seguir pensando en el circo, pero ya no encontró el recuerdo. Metió la cabeza entre los hombros, como un pollito, y se quedó inmóvil con la frente apoyada en el tronco del castaño.\\n(...)\\nEn aquél Macondo olvidado hasta por los pájaros, dónde el polvo y el calor se habían hecho tan tenaces que costaba trabajo respirar, recluidos por la soledad y el amor y por la soledad del amor en una casa dónde era casi imposible dormir por el estruendo de las hormigas coloradas, Aureliano y Amaranta Ursula eran los únicos seres felices, y los más felices sobre la tierra.\"\\nepdlp.com'"
      ]
     },
     "execution_count": 93,
     "metadata": {},
     "output_type": "execute_result"
    }
   ],
   "source": [
    "extracto"
   ]
  },
  {
   "cell_type": "code",
   "execution_count": 94,
   "metadata": {},
   "outputs": [],
   "source": [
    "# (3.1) Removemos los simbolos de puntuacion:\n",
    "for simbolo in string.punctuation:\n",
    "    extracto = extracto.replace(simbolo, '')"
   ]
  },
  {
   "cell_type": "code",
   "execution_count": 95,
   "metadata": {},
   "outputs": [],
   "source": [
    "extracto = extracto.replace('\\n', ' ')"
   ]
  },
  {
   "cell_type": "code",
   "execution_count": 96,
   "metadata": {},
   "outputs": [
    {
     "data": {
      "text/plain": [
       "'Cien años de soledad fragmento Muchos años después frente al pelotón de fusilamiento el coronel Aureliano Buendía había de recordar aquella tarde remota en que su padre lo llevó a conocer el hielo Macondo era entonces una aldea de veinte casas de barro y cañabrava construida a la orilla de un río de aguas diáfanas que se precipitaban por un lecho de piedras pulidas blancas y enormes como huevos prehistóricos El mundo era tan reciente que muchas cosas carecían de nombre y para mencionarlas había que señalarlas con el dedo  José Arcadio Buendía que era el hombre más emprendedor que se vería jamás en la aldea había dispuesto de tal modo la posición de las casas que desde todas podía llegarse al río y abastecerse de agua con igual esfuerzo y trazó las calles con tan buen sentido que ninguna casa recibía más sol que otra a la hora del calor En pocos años Macondo fue una aldea más ordenada y laboriosa que cualquiera de las conocidas hasta entonces por sus trescientos habitantes Era en verdad una aldea feliz donde nadie era mayor de treinta años y donde nadie había muerto  Vio una mujer vestida de oro en el cogote de un elefante Vio un dromedario triste Vio un oso vestido de holandesa que marcaba el compás de la música con un cucharón y una cacerola Vio a los payasos haciendo maromas en la cola del desfile y le vio otra vez la cara a su soledad miserable cuando todo acabó de pasar y no quedó sino el luminoso espacio en la calle y el aire lleno de hormigas voladoras y unos cuantos curiosos asomados al precipicio de la incertidumbre Entonces fue el castaño pensando en el circo y mientras orinaba trató de seguir pensando en el circo pero ya no encontró el recuerdo Metió la cabeza entre los hombros como un pollito y se quedó inmóvil con la frente apoyada en el tronco del castaño  En aquél Macondo olvidado hasta por los pájaros dónde el polvo y el calor se habían hecho tan tenaces que costaba trabajo respirar recluidos por la soledad y el amor y por la soledad del amor en una casa dónde era casi imposible dormir por el estruendo de las hormigas coloradas Aureliano y Amaranta Ursula eran los únicos seres felices y los más felices sobre la tierra epdlpcom'"
      ]
     },
     "execution_count": 96,
     "metadata": {},
     "output_type": "execute_result"
    }
   ],
   "source": [
    "extracto"
   ]
  },
  {
   "cell_type": "code",
   "execution_count": 97,
   "metadata": {},
   "outputs": [],
   "source": [
    "# (3.2) Tokenizamos el extracto por palabras para su conteo:\n",
    "extract_palab = word_tokenize(extracto)\n",
    "# extract_palab"
   ]
  },
  {
   "cell_type": "code",
   "execution_count": 98,
   "metadata": {},
   "outputs": [],
   "source": [
    "# (3.3) Convertimos todos los tokens a letra miniscula:\n",
    "extract_palab_lower = [r.lower() for r in extract_palab]\n",
    "# extract_palab_lower"
   ]
  },
  {
   "cell_type": "code",
   "execution_count": 99,
   "metadata": {},
   "outputs": [],
   "source": [
    "# (3.4) Podemos remover los stop words si no queremos contabilizarlos:\n",
    "# (i) Definimos el idioma en el que estan los stop words:\n",
    "sw = stopwords.words('spanish')\n",
    "#extract_NSW = \n",
    "# NSW: No Stop Words "
   ]
  },
  {
   "cell_type": "code",
   "execution_count": 28,
   "metadata": {},
   "outputs": [
    {
     "data": {
      "text/plain": [
       "313"
      ]
     },
     "execution_count": 28,
     "metadata": {},
     "output_type": "execute_result"
    }
   ],
   "source": [
    "# (ii) revisamos cuantas stopwords hay en sw para españolÑ\n",
    "len(sw)"
   ]
  },
  {
   "cell_type": "code",
   "execution_count": 55,
   "metadata": {},
   "outputs": [],
   "source": [
    "# (iii) revisamos las stopwords existentes:\n",
    "#head, *tail = sw\n",
    "#print('Head of the list:',head, 'Tail of the list:', tail)\n",
    "# head es solo la primera stopword en español que tiene nltk\n",
    "# tail son todas las demas stopwords en español que tiene nltk."
   ]
  },
  {
   "cell_type": "code",
   "execution_count": 46,
   "metadata": {},
   "outputs": [
    {
     "data": {
      "text/plain": [
       "['de', 'la', 'que', 'el', 'en', 'y', 'a', 'los', 'del', 'se']"
      ]
     },
     "execution_count": 46,
     "metadata": {},
     "output_type": "execute_result"
    }
   ],
   "source": [
    "# Para revisar los primero 10 valores de la lista sw:\n",
    "sw[:10]"
   ]
  },
  {
   "cell_type": "code",
   "execution_count": 44,
   "metadata": {},
   "outputs": [
    {
     "data": {
      "text/plain": [
       "['tuvieses',\n",
       " 'tuviésemos',\n",
       " 'tuvieseis',\n",
       " 'tuviesen',\n",
       " 'teniendo',\n",
       " 'tenido',\n",
       " 'tenida',\n",
       " 'tenidos',\n",
       " 'tenidas',\n",
       " 'tened']"
      ]
     },
     "execution_count": 44,
     "metadata": {},
     "output_type": "execute_result"
    }
   ],
   "source": [
    "# Para revisar los ultimo 10 valores de la lista sw:\n",
    "sw[-10:]"
   ]
  },
  {
   "cell_type": "code",
   "execution_count": 54,
   "metadata": {},
   "outputs": [],
   "source": [
    "#extract_palab_lower"
   ]
  },
  {
   "cell_type": "code",
   "execution_count": 101,
   "metadata": {},
   "outputs": [],
   "source": [
    "# (iv) Removemos las stopwords:\n",
    "tokens = [t for t in extract_palab_lower if t not in sw]\n",
    "# tokens"
   ]
  },
  {
   "cell_type": "code",
   "execution_count": 102,
   "metadata": {},
   "outputs": [
    {
     "data": {
      "text/plain": [
       "Counter({'cien': 1,\n",
       "         'años': 4,\n",
       "         'soledad': 4,\n",
       "         'fragmento': 1,\n",
       "         'después': 1,\n",
       "         'frente': 2,\n",
       "         'pelotón': 1,\n",
       "         'fusilamiento': 1,\n",
       "         'coronel': 1,\n",
       "         'aureliano': 2,\n",
       "         'buendía': 2,\n",
       "         'recordar': 1,\n",
       "         'aquella': 1,\n",
       "         'tarde': 1,\n",
       "         'remota': 1,\n",
       "         'padre': 1,\n",
       "         'llevó': 1,\n",
       "         'conocer': 1,\n",
       "         'hielo': 1,\n",
       "         'macondo': 3,\n",
       "         'entonces': 3,\n",
       "         'aldea': 4,\n",
       "         'veinte': 1,\n",
       "         'casas': 2,\n",
       "         'barro': 1,\n",
       "         'cañabrava': 1,\n",
       "         'construida': 1,\n",
       "         'orilla': 1,\n",
       "         'río': 2,\n",
       "         'aguas': 1,\n",
       "         'diáfanas': 1,\n",
       "         'precipitaban': 1,\n",
       "         'lecho': 1,\n",
       "         'piedras': 1,\n",
       "         'pulidas': 1,\n",
       "         'blancas': 1,\n",
       "         'enormes': 1,\n",
       "         'huevos': 1,\n",
       "         'prehistóricos': 1,\n",
       "         'mundo': 1,\n",
       "         'tan': 3,\n",
       "         'reciente': 1,\n",
       "         'muchas': 1,\n",
       "         'cosas': 1,\n",
       "         'carecían': 1,\n",
       "         'nombre': 1,\n",
       "         'mencionarlas': 1,\n",
       "         'señalarlas': 1,\n",
       "         'dedo': 1,\n",
       "         'josé': 1,\n",
       "         'arcadio': 1,\n",
       "         'hombre': 1,\n",
       "         'emprendedor': 1,\n",
       "         'vería': 1,\n",
       "         'jamás': 1,\n",
       "         'dispuesto': 1,\n",
       "         'tal': 1,\n",
       "         'modo': 1,\n",
       "         'posición': 1,\n",
       "         'todas': 1,\n",
       "         'podía': 1,\n",
       "         'llegarse': 1,\n",
       "         'abastecerse': 1,\n",
       "         'agua': 1,\n",
       "         'igual': 1,\n",
       "         'esfuerzo': 1,\n",
       "         'trazó': 1,\n",
       "         'calles': 1,\n",
       "         'buen': 1,\n",
       "         'ninguna': 1,\n",
       "         'casa': 2,\n",
       "         'recibía': 1,\n",
       "         'sol': 1,\n",
       "         'hora': 1,\n",
       "         'calor': 2,\n",
       "         'pocos': 1,\n",
       "         'ordenada': 1,\n",
       "         'laboriosa': 1,\n",
       "         'cualquiera': 1,\n",
       "         'conocidas': 1,\n",
       "         'trescientos': 1,\n",
       "         'habitantes': 1,\n",
       "         'verdad': 1,\n",
       "         'feliz': 1,\n",
       "         'nadie': 2,\n",
       "         'mayor': 1,\n",
       "         'treinta': 1,\n",
       "         'muerto': 1,\n",
       "         'vio': 5,\n",
       "         'mujer': 1,\n",
       "         'vestida': 1,\n",
       "         'oro': 1,\n",
       "         'cogote': 1,\n",
       "         'elefante': 1,\n",
       "         'dromedario': 1,\n",
       "         'triste': 1,\n",
       "         'oso': 1,\n",
       "         'vestido': 1,\n",
       "         'holandesa': 1,\n",
       "         'marcaba': 1,\n",
       "         'compás': 1,\n",
       "         'música': 1,\n",
       "         'cucharón': 1,\n",
       "         'cacerola': 1,\n",
       "         'payasos': 1,\n",
       "         'haciendo': 1,\n",
       "         'maromas': 1,\n",
       "         'cola': 1,\n",
       "         'desfile': 1,\n",
       "         'vez': 1,\n",
       "         'cara': 1,\n",
       "         'miserable': 1,\n",
       "         'acabó': 1,\n",
       "         'pasar': 1,\n",
       "         'quedó': 2,\n",
       "         'sino': 1,\n",
       "         'luminoso': 1,\n",
       "         'espacio': 1,\n",
       "         'calle': 1,\n",
       "         'aire': 1,\n",
       "         'lleno': 1,\n",
       "         'hormigas': 2,\n",
       "         'voladoras': 1,\n",
       "         'cuantos': 1,\n",
       "         'curiosos': 1,\n",
       "         'asomados': 1,\n",
       "         'precipicio': 1,\n",
       "         'incertidumbre': 1,\n",
       "         'castaño': 2,\n",
       "         'pensando': 2,\n",
       "         'circo': 2,\n",
       "         'mientras': 1,\n",
       "         'orinaba': 1,\n",
       "         'trató': 1,\n",
       "         'seguir': 1,\n",
       "         'encontró': 1,\n",
       "         'recuerdo': 1,\n",
       "         'metió': 1,\n",
       "         'cabeza': 1,\n",
       "         'hombros': 1,\n",
       "         'pollito': 1,\n",
       "         'inmóvil': 1,\n",
       "         'apoyada': 1,\n",
       "         'tronco': 1,\n",
       "         'aquél': 1,\n",
       "         'olvidado': 1,\n",
       "         'pájaros': 1,\n",
       "         'dónde': 2,\n",
       "         'polvo': 1,\n",
       "         'hecho': 1,\n",
       "         'tenaces': 1,\n",
       "         'costaba': 1,\n",
       "         'trabajo': 1,\n",
       "         'respirar': 1,\n",
       "         'recluidos': 1,\n",
       "         'amor': 2,\n",
       "         'casi': 1,\n",
       "         'imposible': 1,\n",
       "         'dormir': 1,\n",
       "         'estruendo': 1,\n",
       "         'coloradas': 1,\n",
       "         'amaranta': 1,\n",
       "         'ursula': 1,\n",
       "         'únicos': 1,\n",
       "         'seres': 1,\n",
       "         'felices': 2,\n",
       "         'tierra': 1,\n",
       "         'epdlpcom': 1})"
      ]
     },
     "execution_count": 102,
     "metadata": {},
     "output_type": "execute_result"
    }
   ],
   "source": [
    "counts = Counter(tokens)\n",
    "counts"
   ]
  },
  {
   "cell_type": "markdown",
   "metadata": {},
   "source": [
    "### (4) Definicion de funcion para conteo directo (sin limpieza) de las ocurrencias de las palabras"
   ]
  },
  {
   "cell_type": "code",
   "execution_count": 12,
   "metadata": {},
   "outputs": [],
   "source": [
    "Dict_Link = {}\n",
    "def word_count(str):\n",
    "    counts = dict()\n",
    "    words = str.split()\n",
    "\n",
    "    for word in words:\n",
    "        if word in counts:\n",
    "            counts[word] += 1\n",
    "        else:\n",
    "            counts[word] = 1\n",
    "\n",
    "    return counts\n"
   ]
  },
  {
   "cell_type": "markdown",
   "metadata": {},
   "source": [
    "### (5) Diccionario con la ocurrencia de cada palabra sin limpieza"
   ]
  },
  {
   "cell_type": "code",
   "execution_count": 14,
   "metadata": {},
   "outputs": [
    {
     "data": {
      "text/plain": [
       "{'Cien': 1,\n",
       " 'años': 3,\n",
       " 'de': 23,\n",
       " 'soledad': 4,\n",
       " '(fragmento)': 1,\n",
       " '\"Muchos': 1,\n",
       " 'después,': 1,\n",
       " 'frente': 2,\n",
       " 'al': 3,\n",
       " 'pelotón': 1,\n",
       " 'fusilamiento,': 1,\n",
       " 'el': 17,\n",
       " 'coronel': 1,\n",
       " 'Aureliano': 2,\n",
       " 'Buendía': 1,\n",
       " 'había': 4,\n",
       " 'recordar': 1,\n",
       " 'aquella': 1,\n",
       " 'tarde': 1,\n",
       " 'remota': 1,\n",
       " 'en': 10,\n",
       " 'que': 12,\n",
       " 'su': 2,\n",
       " 'padre': 1,\n",
       " 'lo': 1,\n",
       " 'llevó': 1,\n",
       " 'a': 5,\n",
       " 'conocer': 1,\n",
       " 'hielo.': 1,\n",
       " 'Macondo': 3,\n",
       " 'era': 5,\n",
       " 'entonces': 2,\n",
       " 'una': 6,\n",
       " 'aldea': 3,\n",
       " 'veinte': 1,\n",
       " 'casas': 1,\n",
       " 'barro': 1,\n",
       " 'y': 19,\n",
       " 'cañabrava': 1,\n",
       " 'construida': 1,\n",
       " 'la': 14,\n",
       " 'orilla': 1,\n",
       " 'un': 7,\n",
       " 'río': 2,\n",
       " 'aguas': 1,\n",
       " 'diáfanas': 1,\n",
       " 'se': 4,\n",
       " 'precipitaban': 1,\n",
       " 'por': 6,\n",
       " 'lecho': 1,\n",
       " 'piedras': 1,\n",
       " 'pulidas,': 1,\n",
       " 'blancas': 1,\n",
       " 'enormes': 1,\n",
       " 'como': 2,\n",
       " 'huevos': 1,\n",
       " 'prehistóricos.': 1,\n",
       " 'El': 1,\n",
       " 'mundo': 1,\n",
       " 'tan': 3,\n",
       " 'reciente,': 1,\n",
       " 'muchas': 1,\n",
       " 'cosas': 1,\n",
       " 'carecían': 1,\n",
       " 'nombre,': 1,\n",
       " 'para': 1,\n",
       " 'mencionarlas': 1,\n",
       " 'señalarlas': 1,\n",
       " 'con': 5,\n",
       " 'dedo.': 1,\n",
       " '(...)': 3,\n",
       " 'José': 1,\n",
       " 'Arcadio': 1,\n",
       " 'Buendía,': 1,\n",
       " 'hombre': 1,\n",
       " 'más': 4,\n",
       " 'emprendedor': 1,\n",
       " 'vería': 1,\n",
       " 'jamás': 1,\n",
       " 'aldea,': 1,\n",
       " 'dispuesto': 1,\n",
       " 'tal': 1,\n",
       " 'modo': 1,\n",
       " 'posición': 1,\n",
       " 'las': 4,\n",
       " 'casas,': 1,\n",
       " 'desde': 1,\n",
       " 'todas': 1,\n",
       " 'podía': 1,\n",
       " 'llegarse': 1,\n",
       " 'abastecerse': 1,\n",
       " 'agua': 1,\n",
       " 'igual': 1,\n",
       " 'esfuerzo,': 1,\n",
       " 'trazó': 1,\n",
       " 'calles': 1,\n",
       " 'buen': 1,\n",
       " 'sentido': 1,\n",
       " 'ninguna': 1,\n",
       " 'casa': 2,\n",
       " 'recibía': 1,\n",
       " 'sol': 1,\n",
       " 'otra': 2,\n",
       " 'hora': 1,\n",
       " 'del': 4,\n",
       " 'calor.': 1,\n",
       " 'En': 2,\n",
       " 'pocos': 1,\n",
       " 'años,': 1,\n",
       " 'fue': 2,\n",
       " 'ordenada': 1,\n",
       " 'laboriosa': 1,\n",
       " 'cualquiera': 1,\n",
       " 'conocidas': 1,\n",
       " 'hasta': 2,\n",
       " 'sus': 1,\n",
       " 'trescientos': 1,\n",
       " 'habitantes.': 1,\n",
       " 'Era': 1,\n",
       " 'verdad': 1,\n",
       " 'feliz,': 1,\n",
       " 'donde': 2,\n",
       " 'nadie': 2,\n",
       " 'mayor': 1,\n",
       " 'treinta': 1,\n",
       " 'muerto.': 1,\n",
       " 'Vio': 4,\n",
       " 'mujer': 1,\n",
       " 'vestida': 1,\n",
       " 'oro': 1,\n",
       " 'cogote': 1,\n",
       " 'elefante.': 1,\n",
       " 'dromedario': 1,\n",
       " 'triste.': 1,\n",
       " 'oso': 1,\n",
       " 'vestido': 1,\n",
       " 'holandesa': 1,\n",
       " 'marcaba': 1,\n",
       " 'compás': 1,\n",
       " 'música': 1,\n",
       " 'cucharón': 1,\n",
       " 'cacerola.': 1,\n",
       " 'los': 5,\n",
       " 'payasos': 1,\n",
       " 'haciendo': 1,\n",
       " 'maromas': 1,\n",
       " 'cola': 1,\n",
       " 'desfile,': 1,\n",
       " 'le': 1,\n",
       " 'vio': 1,\n",
       " 'vez': 1,\n",
       " 'cara': 1,\n",
       " 'miserable': 1,\n",
       " 'cuando': 1,\n",
       " 'todo': 1,\n",
       " 'acabó': 1,\n",
       " 'pasar,': 1,\n",
       " 'no': 2,\n",
       " 'quedó': 2,\n",
       " 'sino': 1,\n",
       " 'luminoso': 1,\n",
       " 'espacio': 1,\n",
       " 'calle,': 1,\n",
       " 'aire': 1,\n",
       " 'lleno': 1,\n",
       " 'hormigas': 2,\n",
       " 'voladoras,': 1,\n",
       " 'unos': 1,\n",
       " 'cuantos': 1,\n",
       " 'curiosos': 1,\n",
       " 'asomados': 1,\n",
       " 'precipicio': 1,\n",
       " 'incertidumbre.': 1,\n",
       " 'Entonces': 1,\n",
       " 'castaño,': 1,\n",
       " 'pensando': 2,\n",
       " 'circo,': 2,\n",
       " 'mientras': 1,\n",
       " 'orinaba': 1,\n",
       " 'trató': 1,\n",
       " 'seguir': 1,\n",
       " 'pero': 1,\n",
       " 'ya': 1,\n",
       " 'encontró': 1,\n",
       " 'recuerdo.': 1,\n",
       " 'Metió': 1,\n",
       " 'cabeza': 1,\n",
       " 'entre': 1,\n",
       " 'hombros,': 1,\n",
       " 'pollito,': 1,\n",
       " 'inmóvil': 1,\n",
       " 'apoyada': 1,\n",
       " 'tronco': 1,\n",
       " 'castaño.': 1,\n",
       " 'aquél': 1,\n",
       " 'olvidado': 1,\n",
       " 'pájaros,': 1,\n",
       " 'dónde': 2,\n",
       " 'polvo': 1,\n",
       " 'calor': 1,\n",
       " 'habían': 1,\n",
       " 'hecho': 1,\n",
       " 'tenaces': 1,\n",
       " 'costaba': 1,\n",
       " 'trabajo': 1,\n",
       " 'respirar,': 1,\n",
       " 'recluidos': 1,\n",
       " 'amor': 2,\n",
       " 'casi': 1,\n",
       " 'imposible': 1,\n",
       " 'dormir': 1,\n",
       " 'estruendo': 1,\n",
       " 'coloradas,': 1,\n",
       " 'Amaranta': 1,\n",
       " 'Ursula': 1,\n",
       " 'eran': 1,\n",
       " 'únicos': 1,\n",
       " 'seres': 1,\n",
       " 'felices,': 1,\n",
       " 'felices': 1,\n",
       " 'sobre': 1,\n",
       " 'tierra.\"': 1,\n",
       " 'epdlp.com': 1}"
      ]
     },
     "execution_count": 14,
     "metadata": {},
     "output_type": "execute_result"
    }
   ],
   "source": [
    "# Dict_Link = word_count(trafilatura.extract(downloaded))\n",
    "Dict_Link = word_count(extracto)\n",
    "Dict_Link"
   ]
  },
  {
   "cell_type": "markdown",
   "metadata": {},
   "source": [
    "Nota: Este conteo directo cuenta palabras como 'felices,' como una palabra."
   ]
  }
 ],
 "metadata": {
  "kernelspec": {
   "display_name": "Python 3.9.13 64-bit (microsoft store)",
   "language": "python",
   "name": "python3"
  },
  "language_info": {
   "codemirror_mode": {
    "name": "ipython",
    "version": 3
   },
   "file_extension": ".py",
   "mimetype": "text/x-python",
   "name": "python",
   "nbconvert_exporter": "python",
   "pygments_lexer": "ipython3",
   "version": "3.9.13"
  },
  "orig_nbformat": 4,
  "vscode": {
   "interpreter": {
    "hash": "98171255d14943fb312a3ced32bc41f1ba1082196510a3a27b46e64306024b66"
   }
  }
 },
 "nbformat": 4,
 "nbformat_minor": 2
}

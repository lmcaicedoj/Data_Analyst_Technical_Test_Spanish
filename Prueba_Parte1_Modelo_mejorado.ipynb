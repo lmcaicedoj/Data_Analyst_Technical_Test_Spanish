{
 "cells": [
  {
   "cell_type": "markdown",
   "metadata": {},
   "source": [
    "# Prueba Tecnica: Problema Inmobiliario"
   ]
  },
  {
   "cell_type": "markdown",
   "metadata": {},
   "source": [
    "### (o) Importe de librerias"
   ]
  },
  {
   "cell_type": "code",
   "execution_count": 123,
   "metadata": {},
   "outputs": [],
   "source": [
    "import pandas as pd\n",
    "import numpy as np\n",
    "import matplotlib.pyplot as plt\n",
    "import seaborn as sns"
   ]
  },
  {
   "cell_type": "code",
   "execution_count": 124,
   "metadata": {},
   "outputs": [],
   "source": [
    "import statsmodels.api as sm\n",
    "import math"
   ]
  },
  {
   "cell_type": "code",
   "execution_count": 125,
   "metadata": {},
   "outputs": [],
   "source": [
    "from sklearn.preprocessing import StandardScaler\n",
    "from sklearn.datasets import make_classification\n",
    "from sklearn.model_selection import cross_val_score\n",
    "from sklearn.model_selection import RepeatedStratifiedKFold\n",
    "from sklearn.linear_model import LogisticRegression\n",
    "from sklearn.model_selection import train_test_split\n",
    "from sklearn.pipeline import make_pipeline\n",
    "from sklearn.linear_model import LinearRegression\n",
    "from sklearn.metrics import mean_squared_error, r2_score\n"
   ]
  },
  {
   "cell_type": "code",
   "execution_count": 126,
   "metadata": {},
   "outputs": [],
   "source": [
    "from sklearn.linear_model import Ridge\n",
    "from sklearn.linear_model import Lasso"
   ]
  },
  {
   "cell_type": "code",
   "execution_count": 436,
   "metadata": {},
   "outputs": [],
   "source": [
    "from sklearn.linear_model import LassoCV"
   ]
  },
  {
   "cell_type": "code",
   "execution_count": 619,
   "metadata": {},
   "outputs": [],
   "source": [
    "from sklearn import svm"
   ]
  },
  {
   "cell_type": "code",
   "execution_count": 490,
   "metadata": {},
   "outputs": [],
   "source": [
    "import pyearth"
   ]
  },
  {
   "cell_type": "code",
   "execution_count": 784,
   "metadata": {},
   "outputs": [
    {
     "name": "stdout",
     "output_type": "stream",
     "text": [
      "Collecting openpyxl\n",
      "  Downloading openpyxl-3.0.10-py2.py3-none-any.whl (242 kB)\n",
      "     -------------------------------------- 242.1/242.1 kB 1.3 MB/s eta 0:00:00\n",
      "Collecting et-xmlfile\n",
      "  Downloading et_xmlfile-1.1.0-py3-none-any.whl (4.7 kB)\n",
      "Installing collected packages: et-xmlfile, openpyxl\n",
      "Successfully installed et-xmlfile-1.1.0 openpyxl-3.0.10\n",
      "Note: you may need to restart the kernel to use updated packages.\n"
     ]
    },
    {
     "name": "stderr",
     "output_type": "stream",
     "text": [
      "WARNING: There was an error checking the latest version of pip.\n"
     ]
    }
   ],
   "source": [
    "pip install openpyxl"
   ]
  },
  {
   "cell_type": "code",
   "execution_count": 785,
   "metadata": {},
   "outputs": [],
   "source": [
    "import openpyxl"
   ]
  },
  {
   "cell_type": "markdown",
   "metadata": {},
   "source": [
    "### (i) Lectura de los archivos"
   ]
  },
  {
   "cell_type": "code",
   "execution_count": 751,
   "metadata": {},
   "outputs": [],
   "source": [
    "bd_train = pd.read_csv('bd_train.csv')"
   ]
  },
  {
   "cell_type": "code",
   "execution_count": 534,
   "metadata": {},
   "outputs": [],
   "source": [
    " bd_test =pd.read_csv('bd_test.csv')"
   ]
  },
  {
   "cell_type": "markdown",
   "metadata": {},
   "source": [
    "### (ii) Información general de los datos"
   ]
  },
  {
   "cell_type": "code",
   "execution_count": 536,
   "metadata": {},
   "outputs": [
    {
     "name": "stdout",
     "output_type": "stream",
     "text": [
      "<class 'pandas.core.frame.DataFrame'>\n",
      "RangeIndex: 1576 entries, 0 to 1575\n",
      "Data columns (total 9 columns):\n",
      " #   Column       Non-Null Count  Dtype  \n",
      "---  ------       --------------  -----  \n",
      " 0   precio       1576 non-null   float64\n",
      " 1   metros2      1576 non-null   int64  \n",
      " 2   anyo         1576 non-null   int64  \n",
      " 3   banyo        1576 non-null   int64  \n",
      " 4   Sp           1576 non-null   int64  \n",
      " 5   Sm           1576 non-null   int64  \n",
      " 6   calefaccion  1576 non-null   int64  \n",
      " 7   cocina       1576 non-null   int64  \n",
      " 8   situacion    1576 non-null   int64  \n",
      "dtypes: float64(1), int64(8)\n",
      "memory usage: 110.9 KB\n"
     ]
    }
   ],
   "source": [
    "bd_train.info()"
   ]
  },
  {
   "cell_type": "code",
   "execution_count": 537,
   "metadata": {},
   "outputs": [
    {
     "name": "stdout",
     "output_type": "stream",
     "text": [
      "<class 'pandas.core.frame.DataFrame'>\n",
      "RangeIndex: 393 entries, 0 to 392\n",
      "Data columns (total 8 columns):\n",
      " #   Column       Non-Null Count  Dtype\n",
      "---  ------       --------------  -----\n",
      " 0   metros2      393 non-null    int64\n",
      " 1   anyo         393 non-null    int64\n",
      " 2   banyo        393 non-null    int64\n",
      " 3   Sp           393 non-null    int64\n",
      " 4   Sm           393 non-null    int64\n",
      " 5   calefaccion  393 non-null    int64\n",
      " 6   cocina       393 non-null    int64\n",
      " 7   situacion    393 non-null    int64\n",
      "dtypes: int64(8)\n",
      "memory usage: 24.7 KB\n"
     ]
    }
   ],
   "source": [
    "bd_test.info()"
   ]
  },
  {
   "cell_type": "markdown",
   "metadata": {},
   "source": [
    "La revisión general de loss datos de test y train sugiere que no hay datos nulos. Hay 9 variables en bd_train y 8 variables en el bd_test. En el bd_test todos son variables int64, mientras que en el bd_train la variable precio es float64. La gran diferencia es que bc_train tiene Precio que es considerada la variable dependiente de todas las demas. En otras palabras Precio es el vector Y, las otras 8 variables formaran la matrix X."
   ]
  },
  {
   "cell_type": "markdown",
   "metadata": {},
   "source": [
    "### (iii) Descripción estadística de los datos"
   ]
  },
  {
   "cell_type": "markdown",
   "metadata": {},
   "source": [
    "#### 1. Parametros descriptivos"
   ]
  },
  {
   "cell_type": "code",
   "execution_count": 538,
   "metadata": {},
   "outputs": [
    {
     "data": {
      "text/html": [
       "<div>\n",
       "<style scoped>\n",
       "    .dataframe tbody tr th:only-of-type {\n",
       "        vertical-align: middle;\n",
       "    }\n",
       "\n",
       "    .dataframe tbody tr th {\n",
       "        vertical-align: top;\n",
       "    }\n",
       "\n",
       "    .dataframe thead th {\n",
       "        text-align: right;\n",
       "    }\n",
       "</style>\n",
       "<table border=\"1\" class=\"dataframe\">\n",
       "  <thead>\n",
       "    <tr style=\"text-align: right;\">\n",
       "      <th></th>\n",
       "      <th>precio</th>\n",
       "      <th>metros2</th>\n",
       "      <th>anyo</th>\n",
       "      <th>banyo</th>\n",
       "      <th>Sp</th>\n",
       "      <th>Sm</th>\n",
       "      <th>calefaccion</th>\n",
       "      <th>cocina</th>\n",
       "      <th>situacion</th>\n",
       "    </tr>\n",
       "  </thead>\n",
       "  <tbody>\n",
       "    <tr>\n",
       "      <th>count</th>\n",
       "      <td>1576.00</td>\n",
       "      <td>1576.00</td>\n",
       "      <td>1576.00</td>\n",
       "      <td>1576.00</td>\n",
       "      <td>1576.00</td>\n",
       "      <td>1576.00</td>\n",
       "      <td>1576.0</td>\n",
       "      <td>1576.00</td>\n",
       "      <td>1576.00</td>\n",
       "    </tr>\n",
       "    <tr>\n",
       "      <th>mean</th>\n",
       "      <td>1627957.87</td>\n",
       "      <td>67.58</td>\n",
       "      <td>1978.68</td>\n",
       "      <td>0.28</td>\n",
       "      <td>0.08</td>\n",
       "      <td>0.02</td>\n",
       "      <td>0.2</td>\n",
       "      <td>0.08</td>\n",
       "      <td>2.20</td>\n",
       "    </tr>\n",
       "    <tr>\n",
       "      <th>std</th>\n",
       "      <td>758564.55</td>\n",
       "      <td>20.68</td>\n",
       "      <td>28.97</td>\n",
       "      <td>0.45</td>\n",
       "      <td>0.27</td>\n",
       "      <td>0.15</td>\n",
       "      <td>0.4</td>\n",
       "      <td>0.28</td>\n",
       "      <td>0.57</td>\n",
       "    </tr>\n",
       "    <tr>\n",
       "      <th>min</th>\n",
       "      <td>203400.00</td>\n",
       "      <td>30.00</td>\n",
       "      <td>1920.00</td>\n",
       "      <td>0.00</td>\n",
       "      <td>0.00</td>\n",
       "      <td>0.00</td>\n",
       "      <td>0.0</td>\n",
       "      <td>0.00</td>\n",
       "      <td>1.00</td>\n",
       "    </tr>\n",
       "    <tr>\n",
       "      <th>25%</th>\n",
       "      <td>1088400.00</td>\n",
       "      <td>53.00</td>\n",
       "      <td>1964.00</td>\n",
       "      <td>0.00</td>\n",
       "      <td>0.00</td>\n",
       "      <td>0.00</td>\n",
       "      <td>0.0</td>\n",
       "      <td>0.00</td>\n",
       "      <td>2.00</td>\n",
       "    </tr>\n",
       "    <tr>\n",
       "      <th>50%</th>\n",
       "      <td>1477000.00</td>\n",
       "      <td>67.00</td>\n",
       "      <td>1987.00</td>\n",
       "      <td>0.00</td>\n",
       "      <td>0.00</td>\n",
       "      <td>0.00</td>\n",
       "      <td>0.0</td>\n",
       "      <td>0.00</td>\n",
       "      <td>2.00</td>\n",
       "    </tr>\n",
       "    <tr>\n",
       "      <th>75%</th>\n",
       "      <td>2044600.00</td>\n",
       "      <td>81.00</td>\n",
       "      <td>2002.00</td>\n",
       "      <td>1.00</td>\n",
       "      <td>0.00</td>\n",
       "      <td>0.00</td>\n",
       "      <td>0.0</td>\n",
       "      <td>0.00</td>\n",
       "      <td>3.00</td>\n",
       "    </tr>\n",
       "    <tr>\n",
       "      <th>max</th>\n",
       "      <td>5739800.00</td>\n",
       "      <td>120.00</td>\n",
       "      <td>2018.00</td>\n",
       "      <td>1.00</td>\n",
       "      <td>1.00</td>\n",
       "      <td>1.00</td>\n",
       "      <td>1.0</td>\n",
       "      <td>1.00</td>\n",
       "      <td>3.00</td>\n",
       "    </tr>\n",
       "  </tbody>\n",
       "</table>\n",
       "</div>"
      ],
      "text/plain": [
       "           precio  metros2     anyo    banyo       Sp       Sm  calefaccion  \\\n",
       "count     1576.00  1576.00  1576.00  1576.00  1576.00  1576.00       1576.0   \n",
       "mean   1627957.87    67.58  1978.68     0.28     0.08     0.02          0.2   \n",
       "std     758564.55    20.68    28.97     0.45     0.27     0.15          0.4   \n",
       "min     203400.00    30.00  1920.00     0.00     0.00     0.00          0.0   \n",
       "25%    1088400.00    53.00  1964.00     0.00     0.00     0.00          0.0   \n",
       "50%    1477000.00    67.00  1987.00     0.00     0.00     0.00          0.0   \n",
       "75%    2044600.00    81.00  2002.00     1.00     0.00     0.00          0.0   \n",
       "max    5739800.00   120.00  2018.00     1.00     1.00     1.00          1.0   \n",
       "\n",
       "        cocina  situacion  \n",
       "count  1576.00    1576.00  \n",
       "mean      0.08       2.20  \n",
       "std       0.28       0.57  \n",
       "min       0.00       1.00  \n",
       "25%       0.00       2.00  \n",
       "50%       0.00       2.00  \n",
       "75%       0.00       3.00  \n",
       "max       1.00       3.00  "
      ]
     },
     "execution_count": 538,
     "metadata": {},
     "output_type": "execute_result"
    }
   ],
   "source": [
    " desc = bd_train.describe()\n",
    " desc.round(2)"
   ]
  },
  {
   "cell_type": "code",
   "execution_count": 797,
   "metadata": {},
   "outputs": [
    {
     "data": {
      "text/plain": [
       "precio         1.009362\n",
       "metros2        0.250030\n",
       "anyo          -0.913279\n",
       "banyo          0.995974\n",
       "Sp             3.053514\n",
       "Sm             6.592245\n",
       "calefaccion    1.532539\n",
       "cocina         3.038182\n",
       "situacion     -0.001102\n",
       "dtype: float64"
      ]
     },
     "execution_count": 797,
     "metadata": {},
     "output_type": "execute_result"
    }
   ],
   "source": [
    "skewVal = bd_train.skew(axis = 0)\n",
    "skewVal"
   ]
  },
  {
   "cell_type": "markdown",
   "metadata": {},
   "source": [
    "En este set de datos la unica variable que tiene una distribucion simetrica (aproximadamente normal) es 'metros2'. Se podria decir que 'situacion' tambien tiene una distribucion simetrica, con la gran mayoria de sus datos centrados en la categoria 2.\n",
    "\n",
    "La variable 'anyo' tienen asimetria negativa (<0) eso quiere decir que tiene datos atipicos en la cola izquierda de su histograma.\n",
    "\n",
    "Las demas variables tienen asimetrica positiva (>0) eso quiere decir que sus datos atipicos estan a la derecha de su histograma. Es importante revisar porque las variables categoricas tienen esta asimetria, esto sugiere un desbalance importante en los datos estudiados, priorizando una categoria mas que la otra."
   ]
  },
  {
   "cell_type": "code",
   "execution_count": 798,
   "metadata": {},
   "outputs": [
    {
     "data": {
      "text/plain": [
       "precio          1.436822\n",
       "metros2        -0.523493\n",
       "anyo           -0.403638\n",
       "banyo          -1.009317\n",
       "Sp              7.333254\n",
       "Sm             41.510374\n",
       "calefaccion     0.349118\n",
       "cocina          7.239733\n",
       "situacion      -0.237006\n",
       "dtype: float64"
      ]
     },
     "execution_count": 798,
     "metadata": {},
     "output_type": "execute_result"
    }
   ],
   "source": [
    "kurVal = bd_train.kurt(axis = 0)\n",
    "kurVal"
   ]
  },
  {
   "cell_type": "markdown",
   "metadata": {},
   "source": [
    "En este dataset se evidencia que las variables categoricas Sp, Sm y Cocina tienen una alta kurtosis por lo que tienen una presencia importante de datos atipicos (outliers) en las colas de su distribucion. Situacion que evidencia ahun mas la complejidad de los datos y su posible problema de balanceo.\n",
    "\n",
    "Las demas variables excepto precio tienen una kurtosis negativa, especialmente banyo lo que sugiere que existe mas de una poblacion o cluster de datos en esta variable.\n",
    "\n",
    "En el caso de la variable precios la kurtosis (>1) confirma la existencia de datos atipicos (que pueden referirse a los precios mas caros del mercado). "
   ]
  },
  {
   "cell_type": "markdown",
   "metadata": {},
   "source": [
    "#### 2. Escalamiento Estandar de los datos"
   ]
  },
  {
   "cell_type": "code",
   "execution_count": 539,
   "metadata": {},
   "outputs": [],
   "source": [
    "scaler = StandardScaler()\n",
    "bd_train_scale = scaler.fit_transform(bd_train)\n",
    "# Se valida que dan los mismos valores"
   ]
  },
  {
   "cell_type": "code",
   "execution_count": 540,
   "metadata": {},
   "outputs": [
    {
     "data": {
      "text/plain": [
       "array([[-0.318, -0.851,  0.805, ..., -0.494, -0.3  , -0.345],\n",
       "       [-1.034, -0.657,  0.805, ..., -0.494, -0.3  , -0.345],\n",
       "       [-0.204,  0.117,  0.805, ..., -0.494, -0.3  , -0.345],\n",
       "       ...,\n",
       "       [-0.399, -1.818,  0.529, ..., -0.494, -0.3  ,  1.42 ],\n",
       "       [-0.274, -0.851,  0.702, ..., -0.494, -0.3  ,  1.42 ],\n",
       "       [-0.89 , -0.367, -0.334, ..., -0.494, -0.3  ,  1.42 ]])"
      ]
     },
     "execution_count": 540,
     "metadata": {},
     "output_type": "execute_result"
    }
   ],
   "source": [
    "bd_train_scale"
   ]
  },
  {
   "cell_type": "code",
   "execution_count": 541,
   "metadata": {},
   "outputs": [
    {
     "data": {
      "text/plain": [
       "0      -0.318177\n",
       "1      -1.033475\n",
       "2      -0.204014\n",
       "3       1.268504\n",
       "4      -1.104663\n",
       "          ...   \n",
       "1571   -0.953060\n",
       "1572   -0.445787\n",
       "1573   -0.398592\n",
       "1574   -0.274147\n",
       "1575   -0.889519\n",
       "Name: precio, Length: 1576, dtype: float64"
      ]
     },
     "execution_count": 541,
     "metadata": {},
     "output_type": "execute_result"
    }
   ],
   "source": [
    "# Para validar:\n",
    "(bd_train['precio']-bd_train['precio'].mean())/bd_train['precio'].std()\n",
    "# La primera columna de precios estandarizados es correcta"
   ]
  },
  {
   "cell_type": "code",
   "execution_count": 542,
   "metadata": {},
   "outputs": [],
   "source": [
    "scaler = StandardScaler()\n",
    "bd_test_scale = scaler.fit_transform(bd_test)"
   ]
  },
  {
   "cell_type": "code",
   "execution_count": 543,
   "metadata": {},
   "outputs": [
    {
     "data": {
      "text/plain": [
       "array([[-0.851,  0.834, -0.635, ..., -0.506, -0.293, -0.295],\n",
       "       [-0.433, -1.873, -0.635, ..., -0.506, -0.293, -0.295],\n",
       "       [-1.64 ,  0.834, -0.635, ..., -0.506, -0.293, -0.295],\n",
       "       ...,\n",
       "       [-0.154,  0.834, -0.635, ..., -0.506, -0.293, -0.295],\n",
       "       [ 1.285,  0.834,  1.574, ..., -0.506, -0.293,  1.36 ],\n",
       "       [-0.387,  0.868,  1.574, ..., -0.506, -0.293,  1.36 ]])"
      ]
     },
     "execution_count": 543,
     "metadata": {},
     "output_type": "execute_result"
    }
   ],
   "source": [
    "bd_test_scale"
   ]
  },
  {
   "cell_type": "markdown",
   "metadata": {},
   "source": [
    "#### 3. Definicion de las matrices a utilizar: 'A', 'X', 'Y' y 'Z'"
   ]
  },
  {
   "cell_type": "code",
   "execution_count": 544,
   "metadata": {},
   "outputs": [
    {
     "data": {
      "text/html": [
       "<div>\n",
       "<style scoped>\n",
       "    .dataframe tbody tr th:only-of-type {\n",
       "        vertical-align: middle;\n",
       "    }\n",
       "\n",
       "    .dataframe tbody tr th {\n",
       "        vertical-align: top;\n",
       "    }\n",
       "\n",
       "    .dataframe thead th {\n",
       "        text-align: right;\n",
       "    }\n",
       "</style>\n",
       "<table border=\"1\" class=\"dataframe\">\n",
       "  <thead>\n",
       "    <tr style=\"text-align: right;\">\n",
       "      <th></th>\n",
       "      <th>precio</th>\n",
       "      <th>metros2</th>\n",
       "      <th>anyo</th>\n",
       "      <th>banyo</th>\n",
       "      <th>Sp</th>\n",
       "      <th>Sm</th>\n",
       "      <th>calefaccion</th>\n",
       "      <th>cocina</th>\n",
       "      <th>situacion</th>\n",
       "    </tr>\n",
       "  </thead>\n",
       "  <tbody>\n",
       "    <tr>\n",
       "      <th>0</th>\n",
       "      <td>-0.318278</td>\n",
       "      <td>-0.850618</td>\n",
       "      <td>0.805207</td>\n",
       "      <td>-0.619411</td>\n",
       "      <td>-0.29858</td>\n",
       "      <td>-0.14849</td>\n",
       "      <td>-0.493845</td>\n",
       "      <td>-0.299839</td>\n",
       "      <td>-0.344969</td>\n",
       "    </tr>\n",
       "    <tr>\n",
       "      <th>1</th>\n",
       "      <td>-1.033804</td>\n",
       "      <td>-0.657124</td>\n",
       "      <td>0.805207</td>\n",
       "      <td>-0.619411</td>\n",
       "      <td>-0.29858</td>\n",
       "      <td>-0.14849</td>\n",
       "      <td>-0.493845</td>\n",
       "      <td>-0.299839</td>\n",
       "      <td>-0.344969</td>\n",
       "    </tr>\n",
       "    <tr>\n",
       "      <th>2</th>\n",
       "      <td>-0.204079</td>\n",
       "      <td>0.116851</td>\n",
       "      <td>0.805207</td>\n",
       "      <td>-0.619411</td>\n",
       "      <td>-0.29858</td>\n",
       "      <td>-0.14849</td>\n",
       "      <td>-0.493845</td>\n",
       "      <td>-0.299839</td>\n",
       "      <td>-0.344969</td>\n",
       "    </tr>\n",
       "    <tr>\n",
       "      <th>3</th>\n",
       "      <td>1.268907</td>\n",
       "      <td>-0.608750</td>\n",
       "      <td>-1.922353</td>\n",
       "      <td>-0.619411</td>\n",
       "      <td>-0.29858</td>\n",
       "      <td>-0.14849</td>\n",
       "      <td>-0.493845</td>\n",
       "      <td>-0.299839</td>\n",
       "      <td>-0.344969</td>\n",
       "    </tr>\n",
       "    <tr>\n",
       "      <th>4</th>\n",
       "      <td>-1.105013</td>\n",
       "      <td>-1.044112</td>\n",
       "      <td>0.287316</td>\n",
       "      <td>-0.619411</td>\n",
       "      <td>-0.29858</td>\n",
       "      <td>-0.14849</td>\n",
       "      <td>2.024926</td>\n",
       "      <td>-0.299839</td>\n",
       "      <td>-0.344969</td>\n",
       "    </tr>\n",
       "    <tr>\n",
       "      <th>5</th>\n",
       "      <td>1.243851</td>\n",
       "      <td>1.277814</td>\n",
       "      <td>0.805207</td>\n",
       "      <td>-0.619411</td>\n",
       "      <td>-0.29858</td>\n",
       "      <td>-0.14849</td>\n",
       "      <td>-0.493845</td>\n",
       "      <td>-0.299839</td>\n",
       "      <td>-0.344969</td>\n",
       "    </tr>\n",
       "    <tr>\n",
       "      <th>6</th>\n",
       "      <td>0.953210</td>\n",
       "      <td>1.229441</td>\n",
       "      <td>0.805207</td>\n",
       "      <td>-0.619411</td>\n",
       "      <td>-0.29858</td>\n",
       "      <td>-0.14849</td>\n",
       "      <td>-0.493845</td>\n",
       "      <td>-0.299839</td>\n",
       "      <td>-0.344969</td>\n",
       "    </tr>\n",
       "    <tr>\n",
       "      <th>7</th>\n",
       "      <td>0.121376</td>\n",
       "      <td>-0.125016</td>\n",
       "      <td>0.632577</td>\n",
       "      <td>-0.619411</td>\n",
       "      <td>-0.29858</td>\n",
       "      <td>-0.14849</td>\n",
       "      <td>-0.493845</td>\n",
       "      <td>-0.299839</td>\n",
       "      <td>-0.344969</td>\n",
       "    </tr>\n",
       "    <tr>\n",
       "      <th>8</th>\n",
       "      <td>-0.275289</td>\n",
       "      <td>-1.527846</td>\n",
       "      <td>0.805207</td>\n",
       "      <td>-0.619411</td>\n",
       "      <td>-0.29858</td>\n",
       "      <td>-0.14849</td>\n",
       "      <td>-0.493845</td>\n",
       "      <td>-0.299839</td>\n",
       "      <td>-0.344969</td>\n",
       "    </tr>\n",
       "    <tr>\n",
       "      <th>9</th>\n",
       "      <td>-0.412961</td>\n",
       "      <td>-0.512004</td>\n",
       "      <td>1.254046</td>\n",
       "      <td>-0.619411</td>\n",
       "      <td>-0.29858</td>\n",
       "      <td>-0.14849</td>\n",
       "      <td>-0.493845</td>\n",
       "      <td>-0.299839</td>\n",
       "      <td>-0.344969</td>\n",
       "    </tr>\n",
       "  </tbody>\n",
       "</table>\n",
       "</div>"
      ],
      "text/plain": [
       "     precio   metros2      anyo     banyo       Sp       Sm  calefaccion  \\\n",
       "0 -0.318278 -0.850618  0.805207 -0.619411 -0.29858 -0.14849    -0.493845   \n",
       "1 -1.033804 -0.657124  0.805207 -0.619411 -0.29858 -0.14849    -0.493845   \n",
       "2 -0.204079  0.116851  0.805207 -0.619411 -0.29858 -0.14849    -0.493845   \n",
       "3  1.268907 -0.608750 -1.922353 -0.619411 -0.29858 -0.14849    -0.493845   \n",
       "4 -1.105013 -1.044112  0.287316 -0.619411 -0.29858 -0.14849     2.024926   \n",
       "5  1.243851  1.277814  0.805207 -0.619411 -0.29858 -0.14849    -0.493845   \n",
       "6  0.953210  1.229441  0.805207 -0.619411 -0.29858 -0.14849    -0.493845   \n",
       "7  0.121376 -0.125016  0.632577 -0.619411 -0.29858 -0.14849    -0.493845   \n",
       "8 -0.275289 -1.527846  0.805207 -0.619411 -0.29858 -0.14849    -0.493845   \n",
       "9 -0.412961 -0.512004  1.254046 -0.619411 -0.29858 -0.14849    -0.493845   \n",
       "\n",
       "     cocina  situacion  \n",
       "0 -0.299839  -0.344969  \n",
       "1 -0.299839  -0.344969  \n",
       "2 -0.299839  -0.344969  \n",
       "3 -0.299839  -0.344969  \n",
       "4 -0.299839  -0.344969  \n",
       "5 -0.299839  -0.344969  \n",
       "6 -0.299839  -0.344969  \n",
       "7 -0.299839  -0.344969  \n",
       "8 -0.299839  -0.344969  \n",
       "9 -0.299839  -0.344969  "
      ]
     },
     "execution_count": 544,
     "metadata": {},
     "output_type": "execute_result"
    }
   ],
   "source": [
    "A = pd.DataFrame(bd_train_scale, columns = {'precio':[],'metros2':[],'anyo':[],'banyo':[],'Sp':[],'Sm':[],'calefaccion':[],'cocina':[],'situacion':[]})\n",
    "A.head(10)"
   ]
  },
  {
   "cell_type": "code",
   "execution_count": 545,
   "metadata": {},
   "outputs": [
    {
     "data": {
      "text/html": [
       "<div>\n",
       "<style scoped>\n",
       "    .dataframe tbody tr th:only-of-type {\n",
       "        vertical-align: middle;\n",
       "    }\n",
       "\n",
       "    .dataframe tbody tr th {\n",
       "        vertical-align: top;\n",
       "    }\n",
       "\n",
       "    .dataframe thead th {\n",
       "        text-align: right;\n",
       "    }\n",
       "</style>\n",
       "<table border=\"1\" class=\"dataframe\">\n",
       "  <thead>\n",
       "    <tr style=\"text-align: right;\">\n",
       "      <th></th>\n",
       "      <th>metros2</th>\n",
       "      <th>anyo</th>\n",
       "      <th>banyo</th>\n",
       "      <th>Sp</th>\n",
       "      <th>Sm</th>\n",
       "      <th>calefaccion</th>\n",
       "      <th>cocina</th>\n",
       "      <th>situacion</th>\n",
       "    </tr>\n",
       "  </thead>\n",
       "  <tbody>\n",
       "    <tr>\n",
       "      <th>0</th>\n",
       "      <td>-0.850618</td>\n",
       "      <td>0.805207</td>\n",
       "      <td>-0.619411</td>\n",
       "      <td>-0.29858</td>\n",
       "      <td>-0.14849</td>\n",
       "      <td>-0.493845</td>\n",
       "      <td>-0.299839</td>\n",
       "      <td>-0.344969</td>\n",
       "    </tr>\n",
       "    <tr>\n",
       "      <th>1</th>\n",
       "      <td>-0.657124</td>\n",
       "      <td>0.805207</td>\n",
       "      <td>-0.619411</td>\n",
       "      <td>-0.29858</td>\n",
       "      <td>-0.14849</td>\n",
       "      <td>-0.493845</td>\n",
       "      <td>-0.299839</td>\n",
       "      <td>-0.344969</td>\n",
       "    </tr>\n",
       "    <tr>\n",
       "      <th>2</th>\n",
       "      <td>0.116851</td>\n",
       "      <td>0.805207</td>\n",
       "      <td>-0.619411</td>\n",
       "      <td>-0.29858</td>\n",
       "      <td>-0.14849</td>\n",
       "      <td>-0.493845</td>\n",
       "      <td>-0.299839</td>\n",
       "      <td>-0.344969</td>\n",
       "    </tr>\n",
       "    <tr>\n",
       "      <th>3</th>\n",
       "      <td>-0.608750</td>\n",
       "      <td>-1.922353</td>\n",
       "      <td>-0.619411</td>\n",
       "      <td>-0.29858</td>\n",
       "      <td>-0.14849</td>\n",
       "      <td>-0.493845</td>\n",
       "      <td>-0.299839</td>\n",
       "      <td>-0.344969</td>\n",
       "    </tr>\n",
       "    <tr>\n",
       "      <th>4</th>\n",
       "      <td>-1.044112</td>\n",
       "      <td>0.287316</td>\n",
       "      <td>-0.619411</td>\n",
       "      <td>-0.29858</td>\n",
       "      <td>-0.14849</td>\n",
       "      <td>2.024926</td>\n",
       "      <td>-0.299839</td>\n",
       "      <td>-0.344969</td>\n",
       "    </tr>\n",
       "    <tr>\n",
       "      <th>5</th>\n",
       "      <td>1.277814</td>\n",
       "      <td>0.805207</td>\n",
       "      <td>-0.619411</td>\n",
       "      <td>-0.29858</td>\n",
       "      <td>-0.14849</td>\n",
       "      <td>-0.493845</td>\n",
       "      <td>-0.299839</td>\n",
       "      <td>-0.344969</td>\n",
       "    </tr>\n",
       "    <tr>\n",
       "      <th>6</th>\n",
       "      <td>1.229441</td>\n",
       "      <td>0.805207</td>\n",
       "      <td>-0.619411</td>\n",
       "      <td>-0.29858</td>\n",
       "      <td>-0.14849</td>\n",
       "      <td>-0.493845</td>\n",
       "      <td>-0.299839</td>\n",
       "      <td>-0.344969</td>\n",
       "    </tr>\n",
       "    <tr>\n",
       "      <th>7</th>\n",
       "      <td>-0.125016</td>\n",
       "      <td>0.632577</td>\n",
       "      <td>-0.619411</td>\n",
       "      <td>-0.29858</td>\n",
       "      <td>-0.14849</td>\n",
       "      <td>-0.493845</td>\n",
       "      <td>-0.299839</td>\n",
       "      <td>-0.344969</td>\n",
       "    </tr>\n",
       "    <tr>\n",
       "      <th>8</th>\n",
       "      <td>-1.527846</td>\n",
       "      <td>0.805207</td>\n",
       "      <td>-0.619411</td>\n",
       "      <td>-0.29858</td>\n",
       "      <td>-0.14849</td>\n",
       "      <td>-0.493845</td>\n",
       "      <td>-0.299839</td>\n",
       "      <td>-0.344969</td>\n",
       "    </tr>\n",
       "    <tr>\n",
       "      <th>9</th>\n",
       "      <td>-0.512004</td>\n",
       "      <td>1.254046</td>\n",
       "      <td>-0.619411</td>\n",
       "      <td>-0.29858</td>\n",
       "      <td>-0.14849</td>\n",
       "      <td>-0.493845</td>\n",
       "      <td>-0.299839</td>\n",
       "      <td>-0.344969</td>\n",
       "    </tr>\n",
       "  </tbody>\n",
       "</table>\n",
       "</div>"
      ],
      "text/plain": [
       "    metros2      anyo     banyo       Sp       Sm  calefaccion    cocina  \\\n",
       "0 -0.850618  0.805207 -0.619411 -0.29858 -0.14849    -0.493845 -0.299839   \n",
       "1 -0.657124  0.805207 -0.619411 -0.29858 -0.14849    -0.493845 -0.299839   \n",
       "2  0.116851  0.805207 -0.619411 -0.29858 -0.14849    -0.493845 -0.299839   \n",
       "3 -0.608750 -1.922353 -0.619411 -0.29858 -0.14849    -0.493845 -0.299839   \n",
       "4 -1.044112  0.287316 -0.619411 -0.29858 -0.14849     2.024926 -0.299839   \n",
       "5  1.277814  0.805207 -0.619411 -0.29858 -0.14849    -0.493845 -0.299839   \n",
       "6  1.229441  0.805207 -0.619411 -0.29858 -0.14849    -0.493845 -0.299839   \n",
       "7 -0.125016  0.632577 -0.619411 -0.29858 -0.14849    -0.493845 -0.299839   \n",
       "8 -1.527846  0.805207 -0.619411 -0.29858 -0.14849    -0.493845 -0.299839   \n",
       "9 -0.512004  1.254046 -0.619411 -0.29858 -0.14849    -0.493845 -0.299839   \n",
       "\n",
       "   situacion  \n",
       "0  -0.344969  \n",
       "1  -0.344969  \n",
       "2  -0.344969  \n",
       "3  -0.344969  \n",
       "4  -0.344969  \n",
       "5  -0.344969  \n",
       "6  -0.344969  \n",
       "7  -0.344969  \n",
       "8  -0.344969  \n",
       "9  -0.344969  "
      ]
     },
     "execution_count": 545,
     "metadata": {},
     "output_type": "execute_result"
    }
   ],
   "source": [
    "X = A[['metros2','anyo','banyo','Sp','Sm','calefaccion','cocina','situacion']].copy()\n",
    "X.head(10)"
   ]
  },
  {
   "cell_type": "code",
   "execution_count": 546,
   "metadata": {},
   "outputs": [
    {
     "data": {
      "text/html": [
       "<div>\n",
       "<style scoped>\n",
       "    .dataframe tbody tr th:only-of-type {\n",
       "        vertical-align: middle;\n",
       "    }\n",
       "\n",
       "    .dataframe tbody tr th {\n",
       "        vertical-align: top;\n",
       "    }\n",
       "\n",
       "    .dataframe thead th {\n",
       "        text-align: right;\n",
       "    }\n",
       "</style>\n",
       "<table border=\"1\" class=\"dataframe\">\n",
       "  <thead>\n",
       "    <tr style=\"text-align: right;\">\n",
       "      <th></th>\n",
       "      <th>precio</th>\n",
       "    </tr>\n",
       "  </thead>\n",
       "  <tbody>\n",
       "    <tr>\n",
       "      <th>0</th>\n",
       "      <td>-0.318278</td>\n",
       "    </tr>\n",
       "    <tr>\n",
       "      <th>1</th>\n",
       "      <td>-1.033804</td>\n",
       "    </tr>\n",
       "    <tr>\n",
       "      <th>2</th>\n",
       "      <td>-0.204079</td>\n",
       "    </tr>\n",
       "    <tr>\n",
       "      <th>3</th>\n",
       "      <td>1.268907</td>\n",
       "    </tr>\n",
       "    <tr>\n",
       "      <th>4</th>\n",
       "      <td>-1.105013</td>\n",
       "    </tr>\n",
       "    <tr>\n",
       "      <th>5</th>\n",
       "      <td>1.243851</td>\n",
       "    </tr>\n",
       "    <tr>\n",
       "      <th>6</th>\n",
       "      <td>0.953210</td>\n",
       "    </tr>\n",
       "    <tr>\n",
       "      <th>7</th>\n",
       "      <td>0.121376</td>\n",
       "    </tr>\n",
       "    <tr>\n",
       "      <th>8</th>\n",
       "      <td>-0.275289</td>\n",
       "    </tr>\n",
       "    <tr>\n",
       "      <th>9</th>\n",
       "      <td>-0.412961</td>\n",
       "    </tr>\n",
       "  </tbody>\n",
       "</table>\n",
       "</div>"
      ],
      "text/plain": [
       "     precio\n",
       "0 -0.318278\n",
       "1 -1.033804\n",
       "2 -0.204079\n",
       "3  1.268907\n",
       "4 -1.105013\n",
       "5  1.243851\n",
       "6  0.953210\n",
       "7  0.121376\n",
       "8 -0.275289\n",
       "9 -0.412961"
      ]
     },
     "execution_count": 546,
     "metadata": {},
     "output_type": "execute_result"
    }
   ],
   "source": [
    "Y = A[['precio']].copy()\n",
    "Y.head(10)"
   ]
  },
  {
   "cell_type": "code",
   "execution_count": 547,
   "metadata": {},
   "outputs": [
    {
     "data": {
      "text/html": [
       "<div>\n",
       "<style scoped>\n",
       "    .dataframe tbody tr th:only-of-type {\n",
       "        vertical-align: middle;\n",
       "    }\n",
       "\n",
       "    .dataframe tbody tr th {\n",
       "        vertical-align: top;\n",
       "    }\n",
       "\n",
       "    .dataframe thead th {\n",
       "        text-align: right;\n",
       "    }\n",
       "</style>\n",
       "<table border=\"1\" class=\"dataframe\">\n",
       "  <thead>\n",
       "    <tr style=\"text-align: right;\">\n",
       "      <th></th>\n",
       "      <th>metros2</th>\n",
       "      <th>anyo</th>\n",
       "      <th>banyo</th>\n",
       "      <th>Sp</th>\n",
       "      <th>Sm</th>\n",
       "      <th>calefaccion</th>\n",
       "      <th>cocina</th>\n",
       "      <th>situacion</th>\n",
       "    </tr>\n",
       "  </thead>\n",
       "  <tbody>\n",
       "    <tr>\n",
       "      <th>0</th>\n",
       "      <td>-0.850847</td>\n",
       "      <td>0.833968</td>\n",
       "      <td>-0.635273</td>\n",
       "      <td>-0.350510</td>\n",
       "      <td>-0.161585</td>\n",
       "      <td>-0.505560</td>\n",
       "      <td>-0.292635</td>\n",
       "      <td>-0.294732</td>\n",
       "    </tr>\n",
       "    <tr>\n",
       "      <th>1</th>\n",
       "      <td>-0.432984</td>\n",
       "      <td>-1.873289</td>\n",
       "      <td>-0.635273</td>\n",
       "      <td>-0.350510</td>\n",
       "      <td>-0.161585</td>\n",
       "      <td>-0.505560</td>\n",
       "      <td>-0.292635</td>\n",
       "      <td>-0.294732</td>\n",
       "    </tr>\n",
       "    <tr>\n",
       "      <th>2</th>\n",
       "      <td>-1.640142</td>\n",
       "      <td>0.833968</td>\n",
       "      <td>-0.635273</td>\n",
       "      <td>-0.350510</td>\n",
       "      <td>-0.161585</td>\n",
       "      <td>-0.505560</td>\n",
       "      <td>-0.292635</td>\n",
       "      <td>-0.294732</td>\n",
       "    </tr>\n",
       "    <tr>\n",
       "      <th>3</th>\n",
       "      <td>0.681315</td>\n",
       "      <td>1.279466</td>\n",
       "      <td>-0.635273</td>\n",
       "      <td>-0.350510</td>\n",
       "      <td>-0.161585</td>\n",
       "      <td>-0.505560</td>\n",
       "      <td>-0.292635</td>\n",
       "      <td>-0.294732</td>\n",
       "    </tr>\n",
       "    <tr>\n",
       "      <th>4</th>\n",
       "      <td>1.145607</td>\n",
       "      <td>0.833968</td>\n",
       "      <td>-0.635273</td>\n",
       "      <td>-0.350510</td>\n",
       "      <td>-0.161585</td>\n",
       "      <td>-0.505560</td>\n",
       "      <td>-0.292635</td>\n",
       "      <td>-0.294732</td>\n",
       "    </tr>\n",
       "    <tr>\n",
       "      <th>5</th>\n",
       "      <td>1.656327</td>\n",
       "      <td>0.319932</td>\n",
       "      <td>-0.635273</td>\n",
       "      <td>2.852987</td>\n",
       "      <td>-0.161585</td>\n",
       "      <td>-0.505560</td>\n",
       "      <td>3.417224</td>\n",
       "      <td>-1.949443</td>\n",
       "    </tr>\n",
       "    <tr>\n",
       "      <th>6</th>\n",
       "      <td>-1.315138</td>\n",
       "      <td>-1.256446</td>\n",
       "      <td>-0.635273</td>\n",
       "      <td>-0.350510</td>\n",
       "      <td>6.188699</td>\n",
       "      <td>1.978004</td>\n",
       "      <td>-0.292635</td>\n",
       "      <td>-0.294732</td>\n",
       "    </tr>\n",
       "    <tr>\n",
       "      <th>7</th>\n",
       "      <td>-0.665130</td>\n",
       "      <td>0.319932</td>\n",
       "      <td>-0.635273</td>\n",
       "      <td>-0.350510</td>\n",
       "      <td>-0.161585</td>\n",
       "      <td>1.978004</td>\n",
       "      <td>-0.292635</td>\n",
       "      <td>-0.294732</td>\n",
       "    </tr>\n",
       "    <tr>\n",
       "      <th>8</th>\n",
       "      <td>0.217024</td>\n",
       "      <td>0.833968</td>\n",
       "      <td>-0.635273</td>\n",
       "      <td>-0.350510</td>\n",
       "      <td>-0.161585</td>\n",
       "      <td>-0.505560</td>\n",
       "      <td>-0.292635</td>\n",
       "      <td>-0.294732</td>\n",
       "    </tr>\n",
       "    <tr>\n",
       "      <th>9</th>\n",
       "      <td>0.495599</td>\n",
       "      <td>1.142390</td>\n",
       "      <td>-0.635273</td>\n",
       "      <td>-0.350510</td>\n",
       "      <td>-0.161585</td>\n",
       "      <td>-0.505560</td>\n",
       "      <td>-0.292635</td>\n",
       "      <td>-0.294732</td>\n",
       "    </tr>\n",
       "  </tbody>\n",
       "</table>\n",
       "</div>"
      ],
      "text/plain": [
       "    metros2      anyo     banyo        Sp        Sm  calefaccion    cocina  \\\n",
       "0 -0.850847  0.833968 -0.635273 -0.350510 -0.161585    -0.505560 -0.292635   \n",
       "1 -0.432984 -1.873289 -0.635273 -0.350510 -0.161585    -0.505560 -0.292635   \n",
       "2 -1.640142  0.833968 -0.635273 -0.350510 -0.161585    -0.505560 -0.292635   \n",
       "3  0.681315  1.279466 -0.635273 -0.350510 -0.161585    -0.505560 -0.292635   \n",
       "4  1.145607  0.833968 -0.635273 -0.350510 -0.161585    -0.505560 -0.292635   \n",
       "5  1.656327  0.319932 -0.635273  2.852987 -0.161585    -0.505560  3.417224   \n",
       "6 -1.315138 -1.256446 -0.635273 -0.350510  6.188699     1.978004 -0.292635   \n",
       "7 -0.665130  0.319932 -0.635273 -0.350510 -0.161585     1.978004 -0.292635   \n",
       "8  0.217024  0.833968 -0.635273 -0.350510 -0.161585    -0.505560 -0.292635   \n",
       "9  0.495599  1.142390 -0.635273 -0.350510 -0.161585    -0.505560 -0.292635   \n",
       "\n",
       "   situacion  \n",
       "0  -0.294732  \n",
       "1  -0.294732  \n",
       "2  -0.294732  \n",
       "3  -0.294732  \n",
       "4  -0.294732  \n",
       "5  -1.949443  \n",
       "6  -0.294732  \n",
       "7  -0.294732  \n",
       "8  -0.294732  \n",
       "9  -0.294732  "
      ]
     },
     "execution_count": 547,
     "metadata": {},
     "output_type": "execute_result"
    }
   ],
   "source": [
    "# Defincion de la base de datos test como 'Z' para facilitar el codigo.\n",
    "Z = pd.DataFrame(bd_test_scale, columns = {'metros2':[],'anyo':[],'banyo':[],'Sp':[],'Sm':[],'calefaccion':[],'cocina':[],'situacion':[]})\n",
    "Z.head(10)"
   ]
  },
  {
   "cell_type": "markdown",
   "metadata": {},
   "source": [
    "#### 4. Revision de posible Colinealidad"
   ]
  },
  {
   "cell_type": "code",
   "execution_count": 794,
   "metadata": {},
   "outputs": [
    {
     "data": {
      "image/png": "[encoded data removed]",
      "text/plain": [
       "<Figure size 432x288 with 81 Axes>"
      ]
     },
     "metadata": {
      "needs_background": "light"
     },
     "output_type": "display_data"
    }
   ],
   "source": [
    "pd.plotting.scatter_matrix(A)\n",
    "plt.show()"
   ]
  },
  {
   "cell_type": "code",
   "execution_count": 803,
   "metadata": {},
   "outputs": [
    {
     "data": {
      "image/png": "[encoded data removed]",
      "text/plain": [
       "<Figure size 432x288 with 1 Axes>"
      ]
     },
     "metadata": {
      "needs_background": "light"
     },
     "output_type": "display_data"
    }
   ],
   "source": [
    "plt.scatter(A['metros2'],A['precio'], marker= 'o')\n",
    "plt.show()\n",
    "# No hay una indicacion que formen una linea. Esto sugiere que la regresion lineal tal vez no sea la mejor forma de entender estos datos. "
   ]
  },
  {
   "cell_type": "code",
   "execution_count": 804,
   "metadata": {},
   "outputs": [
    {
     "data": {
      "image/png": "[encoded data removed]",
      "text/plain": [
       "<Figure size 432x288 with 1 Axes>"
      ]
     },
     "metadata": {
      "needs_background": "light"
     },
     "output_type": "display_data"
    }
   ],
   "source": [
    "plt.scatter(A['anyo'],A['precio'], marker= 'o')\n",
    "plt.show()\n",
    "# Esta variable empieza a sugerir la existencia de cluster en el set de datos. "
   ]
  },
  {
   "cell_type": "code",
   "execution_count": 805,
   "metadata": {},
   "outputs": [
    {
     "data": {
      "image/png": "[encoded data removed]",
      "text/plain": [
       "<Figure size 432x288 with 1 Axes>"
      ]
     },
     "metadata": {
      "needs_background": "light"
     },
     "output_type": "display_data"
    }
   ],
   "source": [
    "plt.scatter(A['situacion'],A['precio'], marker= 'o')\n",
    "plt.show()\n",
    "# Esta variable empieza a sugerir la existencia de cluster en el set de datos. "
   ]
  },
  {
   "cell_type": "code",
   "execution_count": 806,
   "metadata": {},
   "outputs": [
    {
     "data": {
      "text/plain": [
       "-0.344969    1010\n",
       " 1.420197     437\n",
       "-2.110135     129\n",
       "Name: situacion, dtype: int64"
      ]
     },
     "execution_count": 806,
     "metadata": {},
     "output_type": "execute_result"
    }
   ],
   "source": [
    "A['situacion'].value_counts()\n",
    "# Hay un claro desbalanceo en estas categorias estudiadas. La gran mayoria de datos pertenecen a la categoria 2 con 1010 datos de 1576 datos (64% aproximadamente)."
   ]
  },
  {
   "cell_type": "code",
   "execution_count": 807,
   "metadata": {},
   "outputs": [
    {
     "data": {
      "text/plain": [
       "<AxesSubplot:>"
      ]
     },
     "execution_count": 807,
     "metadata": {},
     "output_type": "execute_result"
    },
    {
     "data": {
      "image/png": "[encoded data removed]",
      "text/plain": [
       "<Figure size 432x288 with 1 Axes>"
      ]
     },
     "metadata": {
      "needs_background": "light"
     },
     "output_type": "display_data"
    }
   ],
   "source": [
    "A['situacion'].hist(bins =3)"
   ]
  },
  {
   "cell_type": "code",
   "execution_count": 548,
   "metadata": {},
   "outputs": [
    {
     "data": {
      "image/png": "[encoded data removed]",
      "text/plain": [
       "<Figure size 432x288 with 64 Axes>"
      ]
     },
     "metadata": {
      "needs_background": "light"
     },
     "output_type": "display_data"
    }
   ],
   "source": [
    "pd.plotting.scatter_matrix(X)\n",
    "plt.show()"
   ]
  },
  {
   "cell_type": "code",
   "execution_count": 549,
   "metadata": {},
   "outputs": [
    {
     "data": {
      "image/png": "[encoded data removed]",
      "text/plain": [
       "<Figure size 432x288 with 64 Axes>"
      ]
     },
     "metadata": {
      "needs_background": "light"
     },
     "output_type": "display_data"
    }
   ],
   "source": [
    "\n",
    "pd.plotting.scatter_matrix(Z)\n",
    "plt.show()"
   ]
  },
  {
   "cell_type": "markdown",
   "metadata": {},
   "source": [
    "#### 5. Correlacion"
   ]
  },
  {
   "cell_type": "code",
   "execution_count": 550,
   "metadata": {},
   "outputs": [
    {
     "data": {
      "text/html": [
       "<div>\n",
       "<style scoped>\n",
       "    .dataframe tbody tr th:only-of-type {\n",
       "        vertical-align: middle;\n",
       "    }\n",
       "\n",
       "    .dataframe tbody tr th {\n",
       "        vertical-align: top;\n",
       "    }\n",
       "\n",
       "    .dataframe thead th {\n",
       "        text-align: right;\n",
       "    }\n",
       "</style>\n",
       "<table border=\"1\" class=\"dataframe\">\n",
       "  <thead>\n",
       "    <tr style=\"text-align: right;\">\n",
       "      <th></th>\n",
       "      <th>precio</th>\n",
       "      <th>metros2</th>\n",
       "      <th>anyo</th>\n",
       "      <th>banyo</th>\n",
       "      <th>Sp</th>\n",
       "      <th>Sm</th>\n",
       "      <th>calefaccion</th>\n",
       "      <th>cocina</th>\n",
       "      <th>situacion</th>\n",
       "    </tr>\n",
       "  </thead>\n",
       "  <tbody>\n",
       "    <tr>\n",
       "      <th>precio</th>\n",
       "      <td>1.000000</td>\n",
       "      <td>0.480936</td>\n",
       "      <td>0.137014</td>\n",
       "      <td>0.163018</td>\n",
       "      <td>-0.133054</td>\n",
       "      <td>-0.149199</td>\n",
       "      <td>-0.279793</td>\n",
       "      <td>0.240701</td>\n",
       "      <td>0.193201</td>\n",
       "    </tr>\n",
       "    <tr>\n",
       "      <th>metros2</th>\n",
       "      <td>0.480936</td>\n",
       "      <td>1.000000</td>\n",
       "      <td>-0.150703</td>\n",
       "      <td>0.033845</td>\n",
       "      <td>0.002084</td>\n",
       "      <td>-0.091872</td>\n",
       "      <td>-0.031433</td>\n",
       "      <td>0.164347</td>\n",
       "      <td>0.025736</td>\n",
       "    </tr>\n",
       "    <tr>\n",
       "      <th>anyo</th>\n",
       "      <td>0.137014</td>\n",
       "      <td>-0.150703</td>\n",
       "      <td>1.000000</td>\n",
       "      <td>0.049603</td>\n",
       "      <td>-0.036001</td>\n",
       "      <td>-0.211112</td>\n",
       "      <td>-0.411784</td>\n",
       "      <td>0.038050</td>\n",
       "      <td>0.056616</td>\n",
       "    </tr>\n",
       "    <tr>\n",
       "      <th>banyo</th>\n",
       "      <td>0.163018</td>\n",
       "      <td>0.033845</td>\n",
       "      <td>0.049603</td>\n",
       "      <td>1.000000</td>\n",
       "      <td>-0.184944</td>\n",
       "      <td>0.005584</td>\n",
       "      <td>-0.123816</td>\n",
       "      <td>0.102803</td>\n",
       "      <td>0.879686</td>\n",
       "    </tr>\n",
       "    <tr>\n",
       "      <th>Sp</th>\n",
       "      <td>-0.133054</td>\n",
       "      <td>0.002084</td>\n",
       "      <td>-0.036001</td>\n",
       "      <td>-0.184944</td>\n",
       "      <td>1.000000</td>\n",
       "      <td>-0.028405</td>\n",
       "      <td>0.056593</td>\n",
       "      <td>-0.022219</td>\n",
       "      <td>-0.630044</td>\n",
       "    </tr>\n",
       "    <tr>\n",
       "      <th>Sm</th>\n",
       "      <td>-0.149199</td>\n",
       "      <td>-0.091872</td>\n",
       "      <td>-0.211112</td>\n",
       "      <td>0.005584</td>\n",
       "      <td>-0.028405</td>\n",
       "      <td>1.000000</td>\n",
       "      <td>0.223679</td>\n",
       "      <td>-0.044523</td>\n",
       "      <td>0.018157</td>\n",
       "    </tr>\n",
       "    <tr>\n",
       "      <th>calefaccion</th>\n",
       "      <td>-0.279793</td>\n",
       "      <td>-0.031433</td>\n",
       "      <td>-0.411784</td>\n",
       "      <td>-0.123816</td>\n",
       "      <td>0.056593</td>\n",
       "      <td>0.223679</td>\n",
       "      <td>1.000000</td>\n",
       "      <td>-0.101599</td>\n",
       "      <td>-0.125224</td>\n",
       "    </tr>\n",
       "    <tr>\n",
       "      <th>cocina</th>\n",
       "      <td>0.240701</td>\n",
       "      <td>0.164347</td>\n",
       "      <td>0.038050</td>\n",
       "      <td>0.102803</td>\n",
       "      <td>-0.022219</td>\n",
       "      <td>-0.044523</td>\n",
       "      <td>-0.101599</td>\n",
       "      <td>1.000000</td>\n",
       "      <td>0.091986</td>\n",
       "    </tr>\n",
       "    <tr>\n",
       "      <th>situacion</th>\n",
       "      <td>0.193201</td>\n",
       "      <td>0.025736</td>\n",
       "      <td>0.056616</td>\n",
       "      <td>0.879686</td>\n",
       "      <td>-0.630044</td>\n",
       "      <td>0.018157</td>\n",
       "      <td>-0.125224</td>\n",
       "      <td>0.091986</td>\n",
       "      <td>1.000000</td>\n",
       "    </tr>\n",
       "  </tbody>\n",
       "</table>\n",
       "</div>"
      ],
      "text/plain": [
       "               precio   metros2      anyo     banyo        Sp        Sm  \\\n",
       "precio       1.000000  0.480936  0.137014  0.163018 -0.133054 -0.149199   \n",
       "metros2      0.480936  1.000000 -0.150703  0.033845  0.002084 -0.091872   \n",
       "anyo         0.137014 -0.150703  1.000000  0.049603 -0.036001 -0.211112   \n",
       "banyo        0.163018  0.033845  0.049603  1.000000 -0.184944  0.005584   \n",
       "Sp          -0.133054  0.002084 -0.036001 -0.184944  1.000000 -0.028405   \n",
       "Sm          -0.149199 -0.091872 -0.211112  0.005584 -0.028405  1.000000   \n",
       "calefaccion -0.279793 -0.031433 -0.411784 -0.123816  0.056593  0.223679   \n",
       "cocina       0.240701  0.164347  0.038050  0.102803 -0.022219 -0.044523   \n",
       "situacion    0.193201  0.025736  0.056616  0.879686 -0.630044  0.018157   \n",
       "\n",
       "             calefaccion    cocina  situacion  \n",
       "precio         -0.279793  0.240701   0.193201  \n",
       "metros2        -0.031433  0.164347   0.025736  \n",
       "anyo           -0.411784  0.038050   0.056616  \n",
       "banyo          -0.123816  0.102803   0.879686  \n",
       "Sp              0.056593 -0.022219  -0.630044  \n",
       "Sm              0.223679 -0.044523   0.018157  \n",
       "calefaccion     1.000000 -0.101599  -0.125224  \n",
       "cocina         -0.101599  1.000000   0.091986  \n",
       "situacion      -0.125224  0.091986   1.000000  "
      ]
     },
     "execution_count": 550,
     "metadata": {},
     "output_type": "execute_result"
    }
   ],
   "source": [
    "A_corr = A.corr()\n",
    "A_corr"
   ]
  },
  {
   "cell_type": "code",
   "execution_count": 551,
   "metadata": {},
   "outputs": [
    {
     "data": {
      "text/plain": [
       "<AxesSubplot:>"
      ]
     },
     "execution_count": 551,
     "metadata": {},
     "output_type": "execute_result"
    },
    {
     "data": {
      "image/png": "[encoded data removed]",
      "text/plain": [
       "<Figure size 432x288 with 2 Axes>"
      ]
     },
     "metadata": {
      "needs_background": "light"
     },
     "output_type": "display_data"
    }
   ],
   "source": [
    "sns.heatmap(A_corr, xticklabels = A.columns, yticklabels = A.columns)"
   ]
  },
  {
   "cell_type": "markdown",
   "metadata": {},
   "source": [
    "Las 3 correlaciones mas relevantes son:\n",
    "(i) 'banyo' y 'situacion' tienen una correlacion positiva importante (88% aproximadamente), lo que sugiere que entre mas baños haya en el inmueble la situacion general de este mejora, perteneciendo a una mejor categoria en la variable 'situacion'.\n",
    "\n",
    "(ii) 'Sp' y 'situacion' tiene una correlacion negativa relevante (-63% aproximadamente), por lo que a mayor Sp, peor categoria se tendra en 'situacion'.\n",
    "\n",
    "(iii) 'precio' esta correlacionado de manera importante con los metros cuadrados (48% aproximadamente). Esto sugiere que entre mayor metros cuadrados tenga un inmueble su precio podría ser mayor.\n"
   ]
  },
  {
   "cell_type": "code",
   "execution_count": 552,
   "metadata": {},
   "outputs": [
    {
     "data": {
      "text/html": [
       "<div>\n",
       "<style scoped>\n",
       "    .dataframe tbody tr th:only-of-type {\n",
       "        vertical-align: middle;\n",
       "    }\n",
       "\n",
       "    .dataframe tbody tr th {\n",
       "        vertical-align: top;\n",
       "    }\n",
       "\n",
       "    .dataframe thead th {\n",
       "        text-align: right;\n",
       "    }\n",
       "</style>\n",
       "<table border=\"1\" class=\"dataframe\">\n",
       "  <thead>\n",
       "    <tr style=\"text-align: right;\">\n",
       "      <th></th>\n",
       "      <th>metros2</th>\n",
       "      <th>anyo</th>\n",
       "      <th>banyo</th>\n",
       "      <th>Sp</th>\n",
       "      <th>Sm</th>\n",
       "      <th>calefaccion</th>\n",
       "      <th>cocina</th>\n",
       "      <th>situacion</th>\n",
       "    </tr>\n",
       "  </thead>\n",
       "  <tbody>\n",
       "    <tr>\n",
       "      <th>metros2</th>\n",
       "      <td>1.000000</td>\n",
       "      <td>-0.150703</td>\n",
       "      <td>0.033845</td>\n",
       "      <td>0.002084</td>\n",
       "      <td>-0.091872</td>\n",
       "      <td>-0.031433</td>\n",
       "      <td>0.164347</td>\n",
       "      <td>0.025736</td>\n",
       "    </tr>\n",
       "    <tr>\n",
       "      <th>anyo</th>\n",
       "      <td>-0.150703</td>\n",
       "      <td>1.000000</td>\n",
       "      <td>0.049603</td>\n",
       "      <td>-0.036001</td>\n",
       "      <td>-0.211112</td>\n",
       "      <td>-0.411784</td>\n",
       "      <td>0.038050</td>\n",
       "      <td>0.056616</td>\n",
       "    </tr>\n",
       "    <tr>\n",
       "      <th>banyo</th>\n",
       "      <td>0.033845</td>\n",
       "      <td>0.049603</td>\n",
       "      <td>1.000000</td>\n",
       "      <td>-0.184944</td>\n",
       "      <td>0.005584</td>\n",
       "      <td>-0.123816</td>\n",
       "      <td>0.102803</td>\n",
       "      <td>0.879686</td>\n",
       "    </tr>\n",
       "    <tr>\n",
       "      <th>Sp</th>\n",
       "      <td>0.002084</td>\n",
       "      <td>-0.036001</td>\n",
       "      <td>-0.184944</td>\n",
       "      <td>1.000000</td>\n",
       "      <td>-0.028405</td>\n",
       "      <td>0.056593</td>\n",
       "      <td>-0.022219</td>\n",
       "      <td>-0.630044</td>\n",
       "    </tr>\n",
       "    <tr>\n",
       "      <th>Sm</th>\n",
       "      <td>-0.091872</td>\n",
       "      <td>-0.211112</td>\n",
       "      <td>0.005584</td>\n",
       "      <td>-0.028405</td>\n",
       "      <td>1.000000</td>\n",
       "      <td>0.223679</td>\n",
       "      <td>-0.044523</td>\n",
       "      <td>0.018157</td>\n",
       "    </tr>\n",
       "    <tr>\n",
       "      <th>calefaccion</th>\n",
       "      <td>-0.031433</td>\n",
       "      <td>-0.411784</td>\n",
       "      <td>-0.123816</td>\n",
       "      <td>0.056593</td>\n",
       "      <td>0.223679</td>\n",
       "      <td>1.000000</td>\n",
       "      <td>-0.101599</td>\n",
       "      <td>-0.125224</td>\n",
       "    </tr>\n",
       "    <tr>\n",
       "      <th>cocina</th>\n",
       "      <td>0.164347</td>\n",
       "      <td>0.038050</td>\n",
       "      <td>0.102803</td>\n",
       "      <td>-0.022219</td>\n",
       "      <td>-0.044523</td>\n",
       "      <td>-0.101599</td>\n",
       "      <td>1.000000</td>\n",
       "      <td>0.091986</td>\n",
       "    </tr>\n",
       "    <tr>\n",
       "      <th>situacion</th>\n",
       "      <td>0.025736</td>\n",
       "      <td>0.056616</td>\n",
       "      <td>0.879686</td>\n",
       "      <td>-0.630044</td>\n",
       "      <td>0.018157</td>\n",
       "      <td>-0.125224</td>\n",
       "      <td>0.091986</td>\n",
       "      <td>1.000000</td>\n",
       "    </tr>\n",
       "  </tbody>\n",
       "</table>\n",
       "</div>"
      ],
      "text/plain": [
       "              metros2      anyo     banyo        Sp        Sm  calefaccion  \\\n",
       "metros2      1.000000 -0.150703  0.033845  0.002084 -0.091872    -0.031433   \n",
       "anyo        -0.150703  1.000000  0.049603 -0.036001 -0.211112    -0.411784   \n",
       "banyo        0.033845  0.049603  1.000000 -0.184944  0.005584    -0.123816   \n",
       "Sp           0.002084 -0.036001 -0.184944  1.000000 -0.028405     0.056593   \n",
       "Sm          -0.091872 -0.211112  0.005584 -0.028405  1.000000     0.223679   \n",
       "calefaccion -0.031433 -0.411784 -0.123816  0.056593  0.223679     1.000000   \n",
       "cocina       0.164347  0.038050  0.102803 -0.022219 -0.044523    -0.101599   \n",
       "situacion    0.025736  0.056616  0.879686 -0.630044  0.018157    -0.125224   \n",
       "\n",
       "               cocina  situacion  \n",
       "metros2      0.164347   0.025736  \n",
       "anyo         0.038050   0.056616  \n",
       "banyo        0.102803   0.879686  \n",
       "Sp          -0.022219  -0.630044  \n",
       "Sm          -0.044523   0.018157  \n",
       "calefaccion -0.101599  -0.125224  \n",
       "cocina       1.000000   0.091986  \n",
       "situacion    0.091986   1.000000  "
      ]
     },
     "execution_count": 552,
     "metadata": {},
     "output_type": "execute_result"
    }
   ],
   "source": [
    "X_corr = X.corr()\n",
    "X_corr"
   ]
  },
  {
   "cell_type": "code",
   "execution_count": 553,
   "metadata": {},
   "outputs": [
    {
     "data": {
      "text/plain": [
       "<AxesSubplot:>"
      ]
     },
     "execution_count": 553,
     "metadata": {},
     "output_type": "execute_result"
    },
    {
     "data": {
      "image/png": "[encoded data removed]",
      "text/plain": [
       "<Figure size 432x288 with 2 Axes>"
      ]
     },
     "metadata": {
      "needs_background": "light"
     },
     "output_type": "display_data"
    }
   ],
   "source": [
    "sns.heatmap(X_corr, xticklabels = X.columns, yticklabels = X.columns)\n"
   ]
  },
  {
   "cell_type": "code",
   "execution_count": 554,
   "metadata": {},
   "outputs": [
    {
     "data": {
      "text/html": [
       "<div>\n",
       "<style scoped>\n",
       "    .dataframe tbody tr th:only-of-type {\n",
       "        vertical-align: middle;\n",
       "    }\n",
       "\n",
       "    .dataframe tbody tr th {\n",
       "        vertical-align: top;\n",
       "    }\n",
       "\n",
       "    .dataframe thead th {\n",
       "        text-align: right;\n",
       "    }\n",
       "</style>\n",
       "<table border=\"1\" class=\"dataframe\">\n",
       "  <thead>\n",
       "    <tr style=\"text-align: right;\">\n",
       "      <th></th>\n",
       "      <th>metros2</th>\n",
       "      <th>anyo</th>\n",
       "      <th>banyo</th>\n",
       "      <th>Sp</th>\n",
       "      <th>Sm</th>\n",
       "      <th>calefaccion</th>\n",
       "      <th>cocina</th>\n",
       "      <th>situacion</th>\n",
       "    </tr>\n",
       "  </thead>\n",
       "  <tbody>\n",
       "    <tr>\n",
       "      <th>metros2</th>\n",
       "      <td>1.000000</td>\n",
       "      <td>-0.119096</td>\n",
       "      <td>0.014407</td>\n",
       "      <td>0.062444</td>\n",
       "      <td>-0.042205</td>\n",
       "      <td>0.013187</td>\n",
       "      <td>0.211210</td>\n",
       "      <td>-0.021464</td>\n",
       "    </tr>\n",
       "    <tr>\n",
       "      <th>anyo</th>\n",
       "      <td>-0.119096</td>\n",
       "      <td>1.000000</td>\n",
       "      <td>0.112310</td>\n",
       "      <td>-0.104070</td>\n",
       "      <td>-0.222403</td>\n",
       "      <td>-0.426442</td>\n",
       "      <td>0.051569</td>\n",
       "      <td>0.137869</td>\n",
       "    </tr>\n",
       "    <tr>\n",
       "      <th>banyo</th>\n",
       "      <td>0.014407</td>\n",
       "      <td>0.112310</td>\n",
       "      <td>1.000000</td>\n",
       "      <td>-0.222669</td>\n",
       "      <td>-0.066950</td>\n",
       "      <td>-0.097772</td>\n",
       "      <td>0.064374</td>\n",
       "      <td>0.863957</td>\n",
       "    </tr>\n",
       "    <tr>\n",
       "      <th>Sp</th>\n",
       "      <td>0.062444</td>\n",
       "      <td>-0.104070</td>\n",
       "      <td>-0.222669</td>\n",
       "      <td>1.000000</td>\n",
       "      <td>-0.004873</td>\n",
       "      <td>0.126464</td>\n",
       "      <td>0.048631</td>\n",
       "      <td>-0.683299</td>\n",
       "    </tr>\n",
       "    <tr>\n",
       "      <th>Sm</th>\n",
       "      <td>-0.042205</td>\n",
       "      <td>-0.222403</td>\n",
       "      <td>-0.066950</td>\n",
       "      <td>-0.004873</td>\n",
       "      <td>1.000000</td>\n",
       "      <td>0.319615</td>\n",
       "      <td>-0.047285</td>\n",
       "      <td>-0.047624</td>\n",
       "    </tr>\n",
       "    <tr>\n",
       "      <th>calefaccion</th>\n",
       "      <td>0.013187</td>\n",
       "      <td>-0.426442</td>\n",
       "      <td>-0.097772</td>\n",
       "      <td>0.126464</td>\n",
       "      <td>0.319615</td>\n",
       "      <td>1.000000</td>\n",
       "      <td>-0.007278</td>\n",
       "      <td>-0.138548</td>\n",
       "    </tr>\n",
       "    <tr>\n",
       "      <th>cocina</th>\n",
       "      <td>0.211210</td>\n",
       "      <td>0.051569</td>\n",
       "      <td>0.064374</td>\n",
       "      <td>0.048631</td>\n",
       "      <td>-0.047285</td>\n",
       "      <td>-0.007278</td>\n",
       "      <td>1.000000</td>\n",
       "      <td>0.023092</td>\n",
       "    </tr>\n",
       "    <tr>\n",
       "      <th>situacion</th>\n",
       "      <td>-0.021464</td>\n",
       "      <td>0.137869</td>\n",
       "      <td>0.863957</td>\n",
       "      <td>-0.683299</td>\n",
       "      <td>-0.047624</td>\n",
       "      <td>-0.138548</td>\n",
       "      <td>0.023092</td>\n",
       "      <td>1.000000</td>\n",
       "    </tr>\n",
       "  </tbody>\n",
       "</table>\n",
       "</div>"
      ],
      "text/plain": [
       "              metros2      anyo     banyo        Sp        Sm  calefaccion  \\\n",
       "metros2      1.000000 -0.119096  0.014407  0.062444 -0.042205     0.013187   \n",
       "anyo        -0.119096  1.000000  0.112310 -0.104070 -0.222403    -0.426442   \n",
       "banyo        0.014407  0.112310  1.000000 -0.222669 -0.066950    -0.097772   \n",
       "Sp           0.062444 -0.104070 -0.222669  1.000000 -0.004873     0.126464   \n",
       "Sm          -0.042205 -0.222403 -0.066950 -0.004873  1.000000     0.319615   \n",
       "calefaccion  0.013187 -0.426442 -0.097772  0.126464  0.319615     1.000000   \n",
       "cocina       0.211210  0.051569  0.064374  0.048631 -0.047285    -0.007278   \n",
       "situacion   -0.021464  0.137869  0.863957 -0.683299 -0.047624    -0.138548   \n",
       "\n",
       "               cocina  situacion  \n",
       "metros2      0.211210  -0.021464  \n",
       "anyo         0.051569   0.137869  \n",
       "banyo        0.064374   0.863957  \n",
       "Sp           0.048631  -0.683299  \n",
       "Sm          -0.047285  -0.047624  \n",
       "calefaccion -0.007278  -0.138548  \n",
       "cocina       1.000000   0.023092  \n",
       "situacion    0.023092   1.000000  "
      ]
     },
     "execution_count": 554,
     "metadata": {},
     "output_type": "execute_result"
    }
   ],
   "source": [
    "Z_corr = Z.corr()\n",
    "Z_corr"
   ]
  },
  {
   "cell_type": "code",
   "execution_count": 555,
   "metadata": {},
   "outputs": [
    {
     "data": {
      "text/plain": [
       "<AxesSubplot:>"
      ]
     },
     "execution_count": 555,
     "metadata": {},
     "output_type": "execute_result"
    },
    {
     "data": {
      "image/png": "[encoded data removed]",
      "text/plain": [
       "<Figure size 432x288 with 2 Axes>"
      ]
     },
     "metadata": {
      "needs_background": "light"
     },
     "output_type": "display_data"
    }
   ],
   "source": [
    "sns.heatmap(Z_corr, xticklabels = Z.columns, yticklabels = Z.columns)"
   ]
  },
  {
   "cell_type": "markdown",
   "metadata": {},
   "source": [
    "Los graficos de correlaciones, como las revisiones graficas de colienalidad, sugieren que Z y X mantienen de manera general sus distribucion y relaciones entre las variables. En caso de que el modelo se ajuste bien a los datos de entrenamiento, lo mas probable es que la prediccion se pueda realizar de manera exitosa."
   ]
  },
  {
   "cell_type": "markdown",
   "metadata": {},
   "source": [
    "#### 6. Covarianza"
   ]
  },
  {
   "cell_type": "code",
   "execution_count": 557,
   "metadata": {},
   "outputs": [
    {
     "name": "stdout",
     "output_type": "stream",
     "text": [
      "[[ 1.001  0.481  0.137  0.163 -0.133 -0.149 -0.28   0.241  0.193]\n",
      " [ 0.481  1.001 -0.151  0.034  0.002 -0.092 -0.031  0.164  0.026]\n",
      " [ 0.137 -0.151  1.001  0.05  -0.036 -0.211 -0.412  0.038  0.057]\n",
      " [ 0.163  0.034  0.05   1.001 -0.185  0.006 -0.124  0.103  0.88 ]\n",
      " [-0.133  0.002 -0.036 -0.185  1.001 -0.028  0.057 -0.022 -0.63 ]\n",
      " [-0.149 -0.092 -0.211  0.006 -0.028  1.001  0.224 -0.045  0.018]\n",
      " [-0.28  -0.031 -0.412 -0.124  0.057  0.224  1.001 -0.102 -0.125]\n",
      " [ 0.241  0.164  0.038  0.103 -0.022 -0.045 -0.102  1.001  0.092]\n",
      " [ 0.193  0.026  0.057  0.88  -0.63   0.018 -0.125  0.092  1.001]]\n"
     ]
    }
   ],
   "source": [
    "np.set_printoptions(precision=3, suppress = True)\n",
    "print(A_cov)"
   ]
  },
  {
   "cell_type": "code",
   "execution_count": 558,
   "metadata": {},
   "outputs": [
    {
     "data": {
      "text/plain": [
       "(8, 8)"
      ]
     },
     "execution_count": 558,
     "metadata": {},
     "output_type": "execute_result"
    }
   ],
   "source": [
    "X_arr = X.to_numpy()\n",
    "X_cov = np.cov(X_arr.T)\n",
    "np.shape(X_cov)"
   ]
  },
  {
   "cell_type": "code",
   "execution_count": 559,
   "metadata": {},
   "outputs": [
    {
     "name": "stdout",
     "output_type": "stream",
     "text": [
      "[[ 1.   -0.15  0.03  0.   -0.09 -0.03  0.16  0.03]\n",
      " [-0.15  1.    0.05 -0.04 -0.21 -0.41  0.04  0.06]\n",
      " [ 0.03  0.05  1.   -0.19  0.01 -0.12  0.1   0.88]\n",
      " [ 0.   -0.04 -0.19  1.   -0.03  0.06 -0.02 -0.63]\n",
      " [-0.09 -0.21  0.01 -0.03  1.    0.22 -0.04  0.02]\n",
      " [-0.03 -0.41 -0.12  0.06  0.22  1.   -0.1  -0.13]\n",
      " [ 0.16  0.04  0.1  -0.02 -0.04 -0.1   1.    0.09]\n",
      " [ 0.03  0.06  0.88 -0.63  0.02 -0.13  0.09  1.  ]]\n"
     ]
    }
   ],
   "source": [
    "np.set_printoptions(precision=2, suppress = True)\n",
    "print(X_cov)"
   ]
  },
  {
   "cell_type": "code",
   "execution_count": 560,
   "metadata": {},
   "outputs": [
    {
     "data": {
      "text/plain": [
       "(8, 8)"
      ]
     },
     "execution_count": 560,
     "metadata": {},
     "output_type": "execute_result"
    }
   ],
   "source": [
    "Z_arr = Z.to_numpy()\n",
    "Z_cov = np.cov(Z_arr.T)\n",
    "np.shape(Z_cov)"
   ]
  },
  {
   "cell_type": "code",
   "execution_count": 561,
   "metadata": {},
   "outputs": [
    {
     "name": "stdout",
     "output_type": "stream",
     "text": [
      "[[ 1.003 -0.119  0.014  0.063 -0.042  0.013  0.212 -0.022]\n",
      " [-0.119  1.003  0.113 -0.104 -0.223 -0.428  0.052  0.138]\n",
      " [ 0.014  0.113  1.003 -0.223 -0.067 -0.098  0.065  0.866]\n",
      " [ 0.063 -0.104 -0.223  1.003 -0.005  0.127  0.049 -0.685]\n",
      " [-0.042 -0.223 -0.067 -0.005  1.003  0.32  -0.047 -0.048]\n",
      " [ 0.013 -0.428 -0.098  0.127  0.32   1.003 -0.007 -0.139]\n",
      " [ 0.212  0.052  0.065  0.049 -0.047 -0.007  1.003  0.023]\n",
      " [-0.022  0.138  0.866 -0.685 -0.048 -0.139  0.023  1.003]]\n"
     ]
    }
   ],
   "source": [
    "np.set_printoptions(precision=3, suppress = True)\n",
    "print(Z_cov)"
   ]
  },
  {
   "cell_type": "markdown",
   "metadata": {},
   "source": [
    "Los datos obtenidos en la covarianza con datos escalados confirman los datos obtenidos en las correlaciones. \n",
    "\n",
    "En otras palabras la correlacion es el calculo de la covarianza con datos escalados y estandarizados."
   ]
  },
  {
   "cell_type": "markdown",
   "metadata": {},
   "source": [
    "#### 7. Componentes principales"
   ]
  },
  {
   "cell_type": "markdown",
   "metadata": {},
   "source": [
    "##### 7.1 Calculo de Autovalores y seleccion de Autovectores"
   ]
  },
  {
   "cell_type": "code",
   "execution_count": 562,
   "metadata": {},
   "outputs": [],
   "source": [
    "[W,V] = np.linalg.eigh(X_cov)\n",
    "# W: Son los autovales (Eigenvalues)\n",
    "# V: Son los autovectores (Eigenvectors)"
   ]
  },
  {
   "cell_type": "code",
   "execution_count": 563,
   "metadata": {},
   "outputs": [
    {
     "data": {
      "text/plain": [
       "array([-0.  ,  0.55,  0.74,  0.82,  0.9 ,  1.21,  1.55,  2.25])"
      ]
     },
     "execution_count": 563,
     "metadata": {},
     "output_type": "execute_result"
    }
   ],
   "source": [
    "np.round_(W,2)\n",
    "# Los dos ultimos autovalores son los de mayor valor de ellos se obtendran las dos componentes principales para realizar un grafico en 2 dimensiones."
   ]
  },
  {
   "cell_type": "code",
   "execution_count": 564,
   "metadata": {},
   "outputs": [
    {
     "data": {
      "text/plain": [
       "array([-0.  ,  6.83,  9.28, 10.19, 11.2 , 15.06, 19.4 , 28.05])"
      ]
     },
     "execution_count": 564,
     "metadata": {},
     "output_type": "execute_result"
    }
   ],
   "source": [
    "np.round_(100*W/sum(W),2)\n",
    "# El ultimo autovector representa el 28.05% de todos los datos.\n",
    "# El penultimo autovector  representa el 19.40% de todos los datos. \n",
    "# Estos dos autovectores juntos representan el 47.45% de los datos. \n",
    "# Esto indica que para llegar al menos a un 60% de representacion de los datos se debe incluir un tecer autovector (+15.06%)."
   ]
  },
  {
   "cell_type": "code",
   "execution_count": 565,
   "metadata": {},
   "outputs": [
    {
     "data": {
      "text/plain": [
       "93.18"
      ]
     },
     "execution_count": 565,
     "metadata": {},
     "output_type": "execute_result"
    }
   ],
   "source": [
    "np.round_(9.28+ 10.19+ 11.2+ 15.06+ 19.4+ 28.05, 2)\n",
    "# 6 variables deben ser escogidas por su corr y cov para modelar el precio de las viviendas"
   ]
  },
  {
   "cell_type": "code",
   "execution_count": 566,
   "metadata": {},
   "outputs": [
    {
     "data": {
      "text/plain": [
       "array([[-0.  ,  0.3 ,  0.48, -0.05, -0.35,  0.74,  0.03, -0.04],\n",
       "       [-0.  ,  0.71,  0.13, -0.08,  0.18, -0.28, -0.59, -0.14],\n",
       "       [-0.58,  0.05, -0.01,  0.57,  0.07,  0.03,  0.12, -0.56],\n",
       "       [ 0.35,  0.03,  0.06,  0.77,  0.22,  0.13, -0.15,  0.43],\n",
       "       [-0.  ,  0.07,  0.62, -0.11,  0.57, -0.19,  0.48,  0.05],\n",
       "       [-0.  ,  0.63, -0.46,  0.03, -0.08,  0.  ,  0.58,  0.21],\n",
       "       [ 0.  , -0.03, -0.38, -0.21,  0.68,  0.56, -0.12, -0.13],\n",
       "       [ 0.73,  0.02, -0.04,  0.08, -0.05, -0.04,  0.17, -0.65]])"
      ]
     },
     "execution_count": 566,
     "metadata": {},
     "output_type": "execute_result"
    }
   ],
   "source": [
    "np.round(V,2)\n",
    "# Los autovectores ayudan a proyectar los datos en 2 o 3 dimensiones y a identificar posibles cluster de datos,\n",
    "# para comprender mejor los datos."
   ]
  },
  {
   "cell_type": "code",
   "execution_count": 567,
   "metadata": {},
   "outputs": [
    {
     "name": "stdout",
     "output_type": "stream",
     "text": [
      "[-0.037 -0.14  -0.56   0.427  0.047  0.207 -0.13  -0.649]\n",
      "[ 0.027 -0.594  0.118 -0.152  0.481  0.579 -0.122  0.167]\n"
     ]
    }
   ],
   "source": [
    "AuVec1 = V[:,7]\n",
    "print(AuVec1)\n",
    "AuVec2 = V[:,6]\n",
    "print(AuVec2)"
   ]
  },
  {
   "cell_type": "code",
   "execution_count": 568,
   "metadata": {},
   "outputs": [],
   "source": [
    "AuVec1 = AuVec1.reshape(8,1)\n",
    "AuVec2 = AuVec2.reshape(8,1)"
   ]
  },
  {
   "cell_type": "markdown",
   "metadata": {},
   "source": [
    "##### 7.2 Conversion de la Matrix X en sus dos componentes principales"
   ]
  },
  {
   "cell_type": "code",
   "execution_count": 569,
   "metadata": {},
   "outputs": [],
   "source": [
    "P_1 = X @ AuVec1\n",
    "P_2 = X @ AuVec2"
   ]
  },
  {
   "cell_type": "code",
   "execution_count": 570,
   "metadata": {},
   "outputs": [
    {
     "data": {
      "text/plain": [
       "Text(0.5, 1.0, 'Componentes principales')"
      ]
     },
     "execution_count": 570,
     "metadata": {},
     "output_type": "execute_result"
    },
    {
     "data": {
      "image/png": "[encoded data removed]",
      "text/plain": [
       "<Figure size 432x288 with 1 Axes>"
      ]
     },
     "metadata": {
      "needs_background": "light"
     },
     "output_type": "display_data"
    }
   ],
   "source": [
    "plt.scatter(P_1, P_2, color='green')\n",
    "# naming the x axis\n",
    "plt.xlabel('P_1')\n",
    "# naming the y axis\n",
    "plt.ylabel('P_2')\n",
    "# giving a title to my graph\n",
    "plt.title('Componentes principales')"
   ]
  },
  {
   "cell_type": "markdown",
   "metadata": {},
   "source": [
    "Esta grafica sugiere que la variable 'situacion' con ayuda de 'anyos' y las demas variables categoricas podria estar separando en 3 cluster los datos estudiados. Esto sugiere que este set de datos posiblemente sea mas conveniente entenderlo desde un problema de clasificacion y no de regresion."
   ]
  },
  {
   "cell_type": "markdown",
   "metadata": {},
   "source": [
    "### (iv) Modelacion"
   ]
  },
  {
   "cell_type": "markdown",
   "metadata": {},
   "source": [
    "Los datos sugieren que estos datos deben entenderse como un problema de clasificacion, por lo que seria importante convertir los datos de precios en categorias para clasificar los inmuebles por rango de precios. Sin embargo se requiere un modelo matematico que pueda calcular el precio del inmueble con las variables estudiadas. Para ello se estudiara el comportamiento de cada uno de los modelos lineales e indicar cual seria el que mejor se ajusta a los datos. "
   ]
  },
  {
   "cell_type": "markdown",
   "metadata": {},
   "source": [
    "#### 1. Regresion Lineal"
   ]
  },
  {
   "cell_type": "markdown",
   "metadata": {},
   "source": [
    "##### a. Encontrando el mejor modelo con Ordinary Least Squares"
   ]
  },
  {
   "cell_type": "markdown",
   "metadata": {},
   "source": [
    "Definicion de X para realizar la regresion lineal con OLS, descartando las variables de menor influencia o representacion de los datos (Sp y anyo) con base en las correlaciones y valores de covarianza encontrados."
   ]
  },
  {
   "cell_type": "code",
   "execution_count": 571,
   "metadata": {},
   "outputs": [
    {
     "data": {
      "text/html": [
       "<div>\n",
       "<style scoped>\n",
       "    .dataframe tbody tr th:only-of-type {\n",
       "        vertical-align: middle;\n",
       "    }\n",
       "\n",
       "    .dataframe tbody tr th {\n",
       "        vertical-align: top;\n",
       "    }\n",
       "\n",
       "    .dataframe thead th {\n",
       "        text-align: right;\n",
       "    }\n",
       "</style>\n",
       "<table border=\"1\" class=\"dataframe\">\n",
       "  <thead>\n",
       "    <tr style=\"text-align: right;\">\n",
       "      <th></th>\n",
       "      <th>metros2</th>\n",
       "      <th>anyo</th>\n",
       "      <th>banyo</th>\n",
       "      <th>Sp</th>\n",
       "      <th>Sm</th>\n",
       "      <th>calefaccion</th>\n",
       "      <th>cocina</th>\n",
       "      <th>situacion</th>\n",
       "    </tr>\n",
       "  </thead>\n",
       "  <tbody>\n",
       "    <tr>\n",
       "      <th>0</th>\n",
       "      <td>-0.850618</td>\n",
       "      <td>0.805207</td>\n",
       "      <td>-0.619411</td>\n",
       "      <td>-0.29858</td>\n",
       "      <td>-0.14849</td>\n",
       "      <td>-0.493845</td>\n",
       "      <td>-0.299839</td>\n",
       "      <td>-0.344969</td>\n",
       "    </tr>\n",
       "    <tr>\n",
       "      <th>1</th>\n",
       "      <td>-0.657124</td>\n",
       "      <td>0.805207</td>\n",
       "      <td>-0.619411</td>\n",
       "      <td>-0.29858</td>\n",
       "      <td>-0.14849</td>\n",
       "      <td>-0.493845</td>\n",
       "      <td>-0.299839</td>\n",
       "      <td>-0.344969</td>\n",
       "    </tr>\n",
       "    <tr>\n",
       "      <th>2</th>\n",
       "      <td>0.116851</td>\n",
       "      <td>0.805207</td>\n",
       "      <td>-0.619411</td>\n",
       "      <td>-0.29858</td>\n",
       "      <td>-0.14849</td>\n",
       "      <td>-0.493845</td>\n",
       "      <td>-0.299839</td>\n",
       "      <td>-0.344969</td>\n",
       "    </tr>\n",
       "    <tr>\n",
       "      <th>3</th>\n",
       "      <td>-0.608750</td>\n",
       "      <td>-1.922353</td>\n",
       "      <td>-0.619411</td>\n",
       "      <td>-0.29858</td>\n",
       "      <td>-0.14849</td>\n",
       "      <td>-0.493845</td>\n",
       "      <td>-0.299839</td>\n",
       "      <td>-0.344969</td>\n",
       "    </tr>\n",
       "    <tr>\n",
       "      <th>4</th>\n",
       "      <td>-1.044112</td>\n",
       "      <td>0.287316</td>\n",
       "      <td>-0.619411</td>\n",
       "      <td>-0.29858</td>\n",
       "      <td>-0.14849</td>\n",
       "      <td>2.024926</td>\n",
       "      <td>-0.299839</td>\n",
       "      <td>-0.344969</td>\n",
       "    </tr>\n",
       "    <tr>\n",
       "      <th>...</th>\n",
       "      <td>...</td>\n",
       "      <td>...</td>\n",
       "      <td>...</td>\n",
       "      <td>...</td>\n",
       "      <td>...</td>\n",
       "      <td>...</td>\n",
       "      <td>...</td>\n",
       "      <td>...</td>\n",
       "    </tr>\n",
       "    <tr>\n",
       "      <th>1571</th>\n",
       "      <td>1.181067</td>\n",
       "      <td>0.287316</td>\n",
       "      <td>1.614437</td>\n",
       "      <td>-0.29858</td>\n",
       "      <td>-0.14849</td>\n",
       "      <td>-0.493845</td>\n",
       "      <td>-0.299839</td>\n",
       "      <td>1.420197</td>\n",
       "    </tr>\n",
       "    <tr>\n",
       "      <th>1572</th>\n",
       "      <td>-0.753871</td>\n",
       "      <td>0.874259</td>\n",
       "      <td>1.614437</td>\n",
       "      <td>-0.29858</td>\n",
       "      <td>-0.14849</td>\n",
       "      <td>-0.493845</td>\n",
       "      <td>-0.299839</td>\n",
       "      <td>1.420197</td>\n",
       "    </tr>\n",
       "    <tr>\n",
       "      <th>1573</th>\n",
       "      <td>-1.818087</td>\n",
       "      <td>0.528998</td>\n",
       "      <td>1.614437</td>\n",
       "      <td>-0.29858</td>\n",
       "      <td>-0.14849</td>\n",
       "      <td>-0.493845</td>\n",
       "      <td>-0.299839</td>\n",
       "      <td>1.420197</td>\n",
       "    </tr>\n",
       "    <tr>\n",
       "      <th>1574</th>\n",
       "      <td>-0.850618</td>\n",
       "      <td>0.701629</td>\n",
       "      <td>1.614437</td>\n",
       "      <td>-0.29858</td>\n",
       "      <td>-0.14849</td>\n",
       "      <td>-0.493845</td>\n",
       "      <td>-0.299839</td>\n",
       "      <td>1.420197</td>\n",
       "    </tr>\n",
       "    <tr>\n",
       "      <th>1575</th>\n",
       "      <td>-0.366883</td>\n",
       "      <td>-0.334154</td>\n",
       "      <td>1.614437</td>\n",
       "      <td>-0.29858</td>\n",
       "      <td>-0.14849</td>\n",
       "      <td>-0.493845</td>\n",
       "      <td>-0.299839</td>\n",
       "      <td>1.420197</td>\n",
       "    </tr>\n",
       "  </tbody>\n",
       "</table>\n",
       "<p>1576 rows × 8 columns</p>\n",
       "</div>"
      ],
      "text/plain": [
       "       metros2      anyo     banyo       Sp       Sm  calefaccion    cocina  \\\n",
       "0    -0.850618  0.805207 -0.619411 -0.29858 -0.14849    -0.493845 -0.299839   \n",
       "1    -0.657124  0.805207 -0.619411 -0.29858 -0.14849    -0.493845 -0.299839   \n",
       "2     0.116851  0.805207 -0.619411 -0.29858 -0.14849    -0.493845 -0.299839   \n",
       "3    -0.608750 -1.922353 -0.619411 -0.29858 -0.14849    -0.493845 -0.299839   \n",
       "4    -1.044112  0.287316 -0.619411 -0.29858 -0.14849     2.024926 -0.299839   \n",
       "...        ...       ...       ...      ...      ...          ...       ...   \n",
       "1571  1.181067  0.287316  1.614437 -0.29858 -0.14849    -0.493845 -0.299839   \n",
       "1572 -0.753871  0.874259  1.614437 -0.29858 -0.14849    -0.493845 -0.299839   \n",
       "1573 -1.818087  0.528998  1.614437 -0.29858 -0.14849    -0.493845 -0.299839   \n",
       "1574 -0.850618  0.701629  1.614437 -0.29858 -0.14849    -0.493845 -0.299839   \n",
       "1575 -0.366883 -0.334154  1.614437 -0.29858 -0.14849    -0.493845 -0.299839   \n",
       "\n",
       "      situacion  \n",
       "0     -0.344969  \n",
       "1     -0.344969  \n",
       "2     -0.344969  \n",
       "3     -0.344969  \n",
       "4     -0.344969  \n",
       "...         ...  \n",
       "1571   1.420197  \n",
       "1572   1.420197  \n",
       "1573   1.420197  \n",
       "1574   1.420197  \n",
       "1575   1.420197  \n",
       "\n",
       "[1576 rows x 8 columns]"
      ]
     },
     "execution_count": 571,
     "metadata": {},
     "output_type": "execute_result"
    }
   ],
   "source": [
    "X"
   ]
  },
  {
   "cell_type": "code",
   "execution_count": 572,
   "metadata": {},
   "outputs": [],
   "source": [
    "X_lin = X[['metros2','calefaccion','cocina','situacion','banyo','Sm']]\n",
    "#X_lin"
   ]
  },
  {
   "cell_type": "code",
   "execution_count": 573,
   "metadata": {},
   "outputs": [],
   "source": [
    "X_train = np.array(X_lin)\n",
    "Y_train = np.array(Y)"
   ]
  },
  {
   "cell_type": "code",
   "execution_count": 574,
   "metadata": {},
   "outputs": [
    {
     "data": {
      "text/html": [
       "<table class=\"simpletable\">\n",
       "<caption>OLS Regression Results</caption>\n",
       "<tr>\n",
       "  <th>Dep. Variable:</th>            <td>y</td>        <th>  R-squared (uncentered):</th>      <td>   0.344</td> \n",
       "</tr>\n",
       "<tr>\n",
       "  <th>Model:</th>                   <td>OLS</td>       <th>  Adj. R-squared (uncentered):</th> <td>   0.342</td> \n",
       "</tr>\n",
       "<tr>\n",
       "  <th>Method:</th>             <td>Least Squares</td>  <th>  F-statistic:       </th>          <td>   137.4</td> \n",
       "</tr>\n",
       "<tr>\n",
       "  <th>Date:</th>             <td>Wed, 14 Sep 2022</td> <th>  Prob (F-statistic):</th>          <td>4.91e-140</td>\n",
       "</tr>\n",
       "<tr>\n",
       "  <th>Time:</th>                 <td>03:01:20</td>     <th>  Log-Likelihood:    </th>          <td> -1903.7</td> \n",
       "</tr>\n",
       "<tr>\n",
       "  <th>No. Observations:</th>      <td>  1576</td>      <th>  AIC:               </th>          <td>   3819.</td> \n",
       "</tr>\n",
       "<tr>\n",
       "  <th>Df Residuals:</th>          <td>  1570</td>      <th>  BIC:               </th>          <td>   3852.</td> \n",
       "</tr>\n",
       "<tr>\n",
       "  <th>Df Model:</th>              <td>     6</td>      <th>                     </th>              <td> </td>    \n",
       "</tr>\n",
       "<tr>\n",
       "  <th>Covariance Type:</th>      <td>nonrobust</td>    <th>                     </th>              <td> </td>    \n",
       "</tr>\n",
       "</table>\n",
       "<table class=\"simpletable\">\n",
       "<tr>\n",
       "   <td></td>     <th>coef</th>     <th>std err</th>      <th>t</th>      <th>P>|t|</th>  <th>[0.025</th>    <th>0.975]</th>  \n",
       "</tr>\n",
       "<tr>\n",
       "  <th>x1</th> <td>    0.4445</td> <td>    0.021</td> <td>   21.369</td> <td> 0.000</td> <td>    0.404</td> <td>    0.485</td>\n",
       "</tr>\n",
       "<tr>\n",
       "  <th>x2</th> <td>   -0.2232</td> <td>    0.021</td> <td>  -10.512</td> <td> 0.000</td> <td>   -0.265</td> <td>   -0.182</td>\n",
       "</tr>\n",
       "<tr>\n",
       "  <th>x3</th> <td>    0.1311</td> <td>    0.021</td> <td>    6.274</td> <td> 0.000</td> <td>    0.090</td> <td>    0.172</td>\n",
       "</tr>\n",
       "<tr>\n",
       "  <th>x4</th> <td>    0.2144</td> <td>    0.043</td> <td>    4.983</td> <td> 0.000</td> <td>    0.130</td> <td>    0.299</td>\n",
       "</tr>\n",
       "<tr>\n",
       "  <th>x5</th> <td>   -0.0814</td> <td>    0.043</td> <td>   -1.892</td> <td> 0.059</td> <td>   -0.166</td> <td>    0.003</td>\n",
       "</tr>\n",
       "<tr>\n",
       "  <th>x6</th> <td>   -0.0560</td> <td>    0.021</td> <td>   -2.659</td> <td> 0.008</td> <td>   -0.097</td> <td>   -0.015</td>\n",
       "</tr>\n",
       "</table>\n",
       "<table class=\"simpletable\">\n",
       "<tr>\n",
       "  <th>Omnibus:</th>       <td>129.773</td> <th>  Durbin-Watson:     </th> <td>   1.660</td>\n",
       "</tr>\n",
       "<tr>\n",
       "  <th>Prob(Omnibus):</th> <td> 0.000</td>  <th>  Jarque-Bera (JB):  </th> <td> 205.874</td>\n",
       "</tr>\n",
       "<tr>\n",
       "  <th>Skew:</th>          <td> 0.613</td>  <th>  Prob(JB):          </th> <td>1.97e-45</td>\n",
       "</tr>\n",
       "<tr>\n",
       "  <th>Kurtosis:</th>      <td> 4.278</td>  <th>  Cond. No.          </th> <td>    4.03</td>\n",
       "</tr>\n",
       "</table><br/><br/>Notes:<br/>[1] R² is computed without centering (uncentered) since the model does not contain a constant.<br/>[2] Standard Errors assume that the covariance matrix of the errors is correctly specified."
      ],
      "text/plain": [
       "<class 'statsmodels.iolib.summary.Summary'>\n",
       "\"\"\"\n",
       "                                 OLS Regression Results                                \n",
       "=======================================================================================\n",
       "Dep. Variable:                      y   R-squared (uncentered):                   0.344\n",
       "Model:                            OLS   Adj. R-squared (uncentered):              0.342\n",
       "Method:                 Least Squares   F-statistic:                              137.4\n",
       "Date:                Wed, 14 Sep 2022   Prob (F-statistic):                   4.91e-140\n",
       "Time:                        03:01:20   Log-Likelihood:                         -1903.7\n",
       "No. Observations:                1576   AIC:                                      3819.\n",
       "Df Residuals:                    1570   BIC:                                      3852.\n",
       "Df Model:                           6                                                  \n",
       "Covariance Type:            nonrobust                                                  \n",
       "==============================================================================\n",
       "                 coef    std err          t      P>|t|      [0.025      0.975]\n",
       "------------------------------------------------------------------------------\n",
       "x1             0.4445      0.021     21.369      0.000       0.404       0.485\n",
       "x2            -0.2232      0.021    -10.512      0.000      -0.265      -0.182\n",
       "x3             0.1311      0.021      6.274      0.000       0.090       0.172\n",
       "x4             0.2144      0.043      4.983      0.000       0.130       0.299\n",
       "x5            -0.0814      0.043     -1.892      0.059      -0.166       0.003\n",
       "x6            -0.0560      0.021     -2.659      0.008      -0.097      -0.015\n",
       "==============================================================================\n",
       "Omnibus:                      129.773   Durbin-Watson:                   1.660\n",
       "Prob(Omnibus):                  0.000   Jarque-Bera (JB):              205.874\n",
       "Skew:                           0.613   Prob(JB):                     1.97e-45\n",
       "Kurtosis:                       4.278   Cond. No.                         4.03\n",
       "==============================================================================\n",
       "\n",
       "Notes:\n",
       "[1] R² is computed without centering (uncentered) since the model does not contain a constant.\n",
       "[2] Standard Errors assume that the covariance matrix of the errors is correctly specified.\n",
       "\"\"\""
      ]
     },
     "execution_count": 574,
     "metadata": {},
     "output_type": "execute_result"
    }
   ],
   "source": [
    "# Ordinary Least Squares regression (OLS)\n",
    "# fit the model\n",
    "lr = sm.OLS(Y_train, X_train).fit()\n",
    "\n",
    "# Printing the parameters\n",
    "lr.params\n",
    "lr.summary()"
   ]
  },
  {
   "cell_type": "markdown",
   "metadata": {},
   "source": [
    "Se encuentra que X4: 'banyo' tiene colinealidad con alguna variable del data set (P > 0.05). Lo mas probable es que sea con la variable 'situacion' (correlacion 88% aproximadamente). Por ello 'banyo' debe removerse de X_lin."
   ]
  },
  {
   "cell_type": "markdown",
   "metadata": {},
   "source": [
    "Se entrena nuevamente el modelo OLS esta vez sin la variable 'banyo':"
   ]
  },
  {
   "cell_type": "code",
   "execution_count": 575,
   "metadata": {},
   "outputs": [
    {
     "data": {
      "text/html": [
       "<table class=\"simpletable\">\n",
       "<caption>OLS Regression Results</caption>\n",
       "<tr>\n",
       "  <th>Dep. Variable:</th>            <td>y</td>        <th>  R-squared (uncentered):</th>      <td>   0.343</td> \n",
       "</tr>\n",
       "<tr>\n",
       "  <th>Model:</th>                   <td>OLS</td>       <th>  Adj. R-squared (uncentered):</th> <td>   0.341</td> \n",
       "</tr>\n",
       "<tr>\n",
       "  <th>Method:</th>             <td>Least Squares</td>  <th>  F-statistic:       </th>          <td>   163.9</td> \n",
       "</tr>\n",
       "<tr>\n",
       "  <th>Date:</th>             <td>Wed, 14 Sep 2022</td> <th>  Prob (F-statistic):</th>          <td>2.16e-140</td>\n",
       "</tr>\n",
       "<tr>\n",
       "  <th>Time:</th>                 <td>03:01:20</td>     <th>  Log-Likelihood:    </th>          <td> -1905.5</td> \n",
       "</tr>\n",
       "<tr>\n",
       "  <th>No. Observations:</th>      <td>  1576</td>      <th>  AIC:               </th>          <td>   3821.</td> \n",
       "</tr>\n",
       "<tr>\n",
       "  <th>Df Residuals:</th>          <td>  1571</td>      <th>  BIC:               </th>          <td>   3848.</td> \n",
       "</tr>\n",
       "<tr>\n",
       "  <th>Df Model:</th>              <td>     5</td>      <th>                     </th>              <td> </td>    \n",
       "</tr>\n",
       "<tr>\n",
       "  <th>Covariance Type:</th>      <td>nonrobust</td>    <th>                     </th>              <td> </td>    \n",
       "</tr>\n",
       "</table>\n",
       "<table class=\"simpletable\">\n",
       "<tr>\n",
       "   <td></td>     <th>coef</th>     <th>std err</th>      <th>t</th>      <th>P>|t|</th>  <th>[0.025</th>    <th>0.975]</th>  \n",
       "</tr>\n",
       "<tr>\n",
       "  <th>x1</th> <td>    0.4439</td> <td>    0.021</td> <td>   21.326</td> <td> 0.000</td> <td>    0.403</td> <td>    0.485</td>\n",
       "</tr>\n",
       "<tr>\n",
       "  <th>x2</th> <td>   -0.2224</td> <td>    0.021</td> <td>  -10.466</td> <td> 0.000</td> <td>   -0.264</td> <td>   -0.181</td>\n",
       "</tr>\n",
       "<tr>\n",
       "  <th>x3</th> <td>    0.1295</td> <td>    0.021</td> <td>    6.198</td> <td> 0.000</td> <td>    0.089</td> <td>    0.171</td>\n",
       "</tr>\n",
       "<tr>\n",
       "  <th>x4</th> <td>    0.1430</td> <td>    0.021</td> <td>    6.906</td> <td> 0.000</td> <td>    0.102</td> <td>    0.184</td>\n",
       "</tr>\n",
       "<tr>\n",
       "  <th>x5</th> <td>   -0.0555</td> <td>    0.021</td> <td>   -2.632</td> <td> 0.009</td> <td>   -0.097</td> <td>   -0.014</td>\n",
       "</tr>\n",
       "</table>\n",
       "<table class=\"simpletable\">\n",
       "<tr>\n",
       "  <th>Omnibus:</th>       <td>129.543</td> <th>  Durbin-Watson:     </th> <td>   1.653</td>\n",
       "</tr>\n",
       "<tr>\n",
       "  <th>Prob(Omnibus):</th> <td> 0.000</td>  <th>  Jarque-Bera (JB):  </th> <td> 202.936</td>\n",
       "</tr>\n",
       "<tr>\n",
       "  <th>Skew:</th>          <td> 0.617</td>  <th>  Prob(JB):          </th> <td>8.57e-45</td>\n",
       "</tr>\n",
       "<tr>\n",
       "  <th>Kurtosis:</th>      <td> 4.253</td>  <th>  Cond. No.          </th> <td>    1.38</td>\n",
       "</tr>\n",
       "</table><br/><br/>Notes:<br/>[1] R² is computed without centering (uncentered) since the model does not contain a constant.<br/>[2] Standard Errors assume that the covariance matrix of the errors is correctly specified."
      ],
      "text/plain": [
       "<class 'statsmodels.iolib.summary.Summary'>\n",
       "\"\"\"\n",
       "                                 OLS Regression Results                                \n",
       "=======================================================================================\n",
       "Dep. Variable:                      y   R-squared (uncentered):                   0.343\n",
       "Model:                            OLS   Adj. R-squared (uncentered):              0.341\n",
       "Method:                 Least Squares   F-statistic:                              163.9\n",
       "Date:                Wed, 14 Sep 2022   Prob (F-statistic):                   2.16e-140\n",
       "Time:                        03:01:20   Log-Likelihood:                         -1905.5\n",
       "No. Observations:                1576   AIC:                                      3821.\n",
       "Df Residuals:                    1571   BIC:                                      3848.\n",
       "Df Model:                           5                                                  \n",
       "Covariance Type:            nonrobust                                                  \n",
       "==============================================================================\n",
       "                 coef    std err          t      P>|t|      [0.025      0.975]\n",
       "------------------------------------------------------------------------------\n",
       "x1             0.4439      0.021     21.326      0.000       0.403       0.485\n",
       "x2            -0.2224      0.021    -10.466      0.000      -0.264      -0.181\n",
       "x3             0.1295      0.021      6.198      0.000       0.089       0.171\n",
       "x4             0.1430      0.021      6.906      0.000       0.102       0.184\n",
       "x5            -0.0555      0.021     -2.632      0.009      -0.097      -0.014\n",
       "==============================================================================\n",
       "Omnibus:                      129.543   Durbin-Watson:                   1.653\n",
       "Prob(Omnibus):                  0.000   Jarque-Bera (JB):              202.936\n",
       "Skew:                           0.617   Prob(JB):                     8.57e-45\n",
       "Kurtosis:                       4.253   Cond. No.                         1.38\n",
       "==============================================================================\n",
       "\n",
       "Notes:\n",
       "[1] R² is computed without centering (uncentered) since the model does not contain a constant.\n",
       "[2] Standard Errors assume that the covariance matrix of the errors is correctly specified.\n",
       "\"\"\""
      ]
     },
     "execution_count": 575,
     "metadata": {},
     "output_type": "execute_result"
    }
   ],
   "source": [
    "X_lin = X[['metros2','calefaccion','cocina','situacion','Sm']]\n",
    "X_train = np.array(X_lin)\n",
    "Y_train = np.array(Y)\n",
    "lr = sm.OLS(Y_train, X_train).fit()\n",
    "lr.params\n",
    "lr.summary()"
   ]
  },
  {
   "cell_type": "markdown",
   "metadata": {},
   "source": [
    "Ya no hay ninguna colinealidad entre las variables independientes, sin embargo el resultado de Adj. R-squared (<0.5) sugiere que el porcentaje de variation de la variable dependiente explicado por las variables independientes es bajo. En otras palabras este modelo no se ajusta bien a los datos.\n",
    "\n",
    "Se toma otra aproximacion utilizando todas las variables de para ver si mejor el ajuste de los datos al modelo de OLS, excepto la variable 'banyo' (debido a que acarrea colinealidad con otras variables del data set)."
   ]
  },
  {
   "cell_type": "code",
   "execution_count": 576,
   "metadata": {},
   "outputs": [
    {
     "data": {
      "text/html": [
       "<table class=\"simpletable\">\n",
       "<caption>OLS Regression Results</caption>\n",
       "<tr>\n",
       "  <th>Dep. Variable:</th>            <td>y</td>        <th>  R-squared (uncentered):</th>      <td>   0.354</td> \n",
       "</tr>\n",
       "<tr>\n",
       "  <th>Model:</th>                   <td>OLS</td>       <th>  Adj. R-squared (uncentered):</th> <td>   0.351</td> \n",
       "</tr>\n",
       "<tr>\n",
       "  <th>Method:</th>             <td>Least Squares</td>  <th>  F-statistic:       </th>          <td>   122.8</td> \n",
       "</tr>\n",
       "<tr>\n",
       "  <th>Date:</th>             <td>Wed, 14 Sep 2022</td> <th>  Prob (F-statistic):</th>          <td>5.45e-144</td>\n",
       "</tr>\n",
       "<tr>\n",
       "  <th>Time:</th>                 <td>03:01:20</td>     <th>  Log-Likelihood:    </th>          <td> -1892.0</td> \n",
       "</tr>\n",
       "<tr>\n",
       "  <th>No. Observations:</th>      <td>  1576</td>      <th>  AIC:               </th>          <td>   3798.</td> \n",
       "</tr>\n",
       "<tr>\n",
       "  <th>Df Residuals:</th>          <td>  1569</td>      <th>  BIC:               </th>          <td>   3835.</td> \n",
       "</tr>\n",
       "<tr>\n",
       "  <th>Df Model:</th>              <td>     7</td>      <th>                     </th>              <td> </td>    \n",
       "</tr>\n",
       "<tr>\n",
       "  <th>Covariance Type:</th>      <td>nonrobust</td>    <th>                     </th>              <td> </td>    \n",
       "</tr>\n",
       "</table>\n",
       "<table class=\"simpletable\">\n",
       "<tr>\n",
       "   <td></td>     <th>coef</th>     <th>std err</th>      <th>t</th>      <th>P>|t|</th>  <th>[0.025</th>    <th>0.975]</th>  \n",
       "</tr>\n",
       "<tr>\n",
       "  <th>x1</th> <td>    0.4644</td> <td>    0.021</td> <td>   22.055</td> <td> 0.000</td> <td>    0.423</td> <td>    0.506</td>\n",
       "</tr>\n",
       "<tr>\n",
       "  <th>x2</th> <td>   -0.1807</td> <td>    0.023</td> <td>   -7.916</td> <td> 0.000</td> <td>   -0.225</td> <td>   -0.136</td>\n",
       "</tr>\n",
       "<tr>\n",
       "  <th>x3</th> <td>    0.1287</td> <td>    0.021</td> <td>    6.201</td> <td> 0.000</td> <td>    0.088</td> <td>    0.169</td>\n",
       "</tr>\n",
       "<tr>\n",
       "  <th>x4</th> <td>    0.1108</td> <td>    0.026</td> <td>    4.192</td> <td> 0.000</td> <td>    0.059</td> <td>    0.163</td>\n",
       "</tr>\n",
       "<tr>\n",
       "  <th>x5</th> <td>   -0.0403</td> <td>    0.021</td> <td>   -1.903</td> <td> 0.057</td> <td>   -0.082</td> <td>    0.001</td>\n",
       "</tr>\n",
       "<tr>\n",
       "  <th>x6</th> <td>   -0.0483</td> <td>    0.026</td> <td>   -1.844</td> <td> 0.065</td> <td>   -0.100</td> <td>    0.003</td>\n",
       "</tr>\n",
       "<tr>\n",
       "  <th>x7</th> <td>    0.1112</td> <td>    0.023</td> <td>    4.851</td> <td> 0.000</td> <td>    0.066</td> <td>    0.156</td>\n",
       "</tr>\n",
       "</table>\n",
       "<table class=\"simpletable\">\n",
       "<tr>\n",
       "  <th>Omnibus:</th>       <td>144.507</td> <th>  Durbin-Watson:     </th> <td>   1.647</td>\n",
       "</tr>\n",
       "<tr>\n",
       "  <th>Prob(Omnibus):</th> <td> 0.000</td>  <th>  Jarque-Bera (JB):  </th> <td> 238.936</td>\n",
       "</tr>\n",
       "<tr>\n",
       "  <th>Skew:</th>          <td> 0.652</td>  <th>  Prob(JB):          </th> <td>1.31e-52</td>\n",
       "</tr>\n",
       "<tr>\n",
       "  <th>Kurtosis:</th>      <td> 4.392</td>  <th>  Cond. No.          </th> <td>    2.19</td>\n",
       "</tr>\n",
       "</table><br/><br/>Notes:<br/>[1] R² is computed without centering (uncentered) since the model does not contain a constant.<br/>[2] Standard Errors assume that the covariance matrix of the errors is correctly specified."
      ],
      "text/plain": [
       "<class 'statsmodels.iolib.summary.Summary'>\n",
       "\"\"\"\n",
       "                                 OLS Regression Results                                \n",
       "=======================================================================================\n",
       "Dep. Variable:                      y   R-squared (uncentered):                   0.354\n",
       "Model:                            OLS   Adj. R-squared (uncentered):              0.351\n",
       "Method:                 Least Squares   F-statistic:                              122.8\n",
       "Date:                Wed, 14 Sep 2022   Prob (F-statistic):                   5.45e-144\n",
       "Time:                        03:01:20   Log-Likelihood:                         -1892.0\n",
       "No. Observations:                1576   AIC:                                      3798.\n",
       "Df Residuals:                    1569   BIC:                                      3835.\n",
       "Df Model:                           7                                                  \n",
       "Covariance Type:            nonrobust                                                  \n",
       "==============================================================================\n",
       "                 coef    std err          t      P>|t|      [0.025      0.975]\n",
       "------------------------------------------------------------------------------\n",
       "x1             0.4644      0.021     22.055      0.000       0.423       0.506\n",
       "x2            -0.1807      0.023     -7.916      0.000      -0.225      -0.136\n",
       "x3             0.1287      0.021      6.201      0.000       0.088       0.169\n",
       "x4             0.1108      0.026      4.192      0.000       0.059       0.163\n",
       "x5            -0.0403      0.021     -1.903      0.057      -0.082       0.001\n",
       "x6            -0.0483      0.026     -1.844      0.065      -0.100       0.003\n",
       "x7             0.1112      0.023      4.851      0.000       0.066       0.156\n",
       "==============================================================================\n",
       "Omnibus:                      144.507   Durbin-Watson:                   1.647\n",
       "Prob(Omnibus):                  0.000   Jarque-Bera (JB):              238.936\n",
       "Skew:                           0.652   Prob(JB):                     1.31e-52\n",
       "Kurtosis:                       4.392   Cond. No.                         2.19\n",
       "==============================================================================\n",
       "\n",
       "Notes:\n",
       "[1] R² is computed without centering (uncentered) since the model does not contain a constant.\n",
       "[2] Standard Errors assume that the covariance matrix of the errors is correctly specified.\n",
       "\"\"\""
      ]
     },
     "execution_count": 576,
     "metadata": {},
     "output_type": "execute_result"
    }
   ],
   "source": [
    "X_lin_2 = X[['metros2','calefaccion','cocina','situacion','Sm','Sp','anyo']]\n",
    "X_train = np.array(X_lin_2)\n",
    "Y_train = np.array(Y)\n",
    "lr = sm.OLS(Y_train, X_train).fit()\n",
    "lr.params\n",
    "lr.summary()"
   ]
  },
  {
   "cell_type": "markdown",
   "metadata": {},
   "source": [
    "El resultado arroja que las variables 'Sp' y 'Sm' tambien acarrean colinealidad (P>0.05). Lo mas probable es que sea con la variable 'situacion', ya que esta ultima es un resumen de las variables 'Sp' y 'Sm'.\n",
    "\n",
    "Se proceden a remover del set de datos 'Sp' y 'Sm'. Se corre nuevamente el modelo."
   ]
  },
  {
   "cell_type": "code",
   "execution_count": 577,
   "metadata": {},
   "outputs": [
    {
     "data": {
      "text/html": [
       "<table class=\"simpletable\">\n",
       "<caption>OLS Regression Results</caption>\n",
       "<tr>\n",
       "  <th>Dep. Variable:</th>            <td>y</td>        <th>  R-squared (uncentered):</th>      <td>   0.351</td> \n",
       "</tr>\n",
       "<tr>\n",
       "  <th>Model:</th>                   <td>OLS</td>       <th>  Adj. R-squared (uncentered):</th> <td>   0.349</td> \n",
       "</tr>\n",
       "<tr>\n",
       "  <th>Method:</th>             <td>Least Squares</td>  <th>  F-statistic:       </th>          <td>   170.0</td> \n",
       "</tr>\n",
       "<tr>\n",
       "  <th>Date:</th>             <td>Wed, 14 Sep 2022</td> <th>  Prob (F-statistic):</th>          <td>9.88e-145</td>\n",
       "</tr>\n",
       "<tr>\n",
       "  <th>Time:</th>                 <td>03:01:20</td>     <th>  Log-Likelihood:    </th>          <td> -1895.4</td> \n",
       "</tr>\n",
       "<tr>\n",
       "  <th>No. Observations:</th>      <td>  1576</td>      <th>  AIC:               </th>          <td>   3801.</td> \n",
       "</tr>\n",
       "<tr>\n",
       "  <th>Df Residuals:</th>          <td>  1571</td>      <th>  BIC:               </th>          <td>   3828.</td> \n",
       "</tr>\n",
       "<tr>\n",
       "  <th>Df Model:</th>              <td>     5</td>      <th>                     </th>              <td> </td>    \n",
       "</tr>\n",
       "<tr>\n",
       "  <th>Covariance Type:</th>      <td>nonrobust</td>    <th>                     </th>              <td> </td>    \n",
       "</tr>\n",
       "</table>\n",
       "<table class=\"simpletable\">\n",
       "<tr>\n",
       "   <td></td>     <th>coef</th>     <th>std err</th>      <th>t</th>      <th>P>|t|</th>  <th>[0.025</th>    <th>0.975]</th>  \n",
       "</tr>\n",
       "<tr>\n",
       "  <th>x1</th> <td>    0.4684</td> <td>    0.021</td> <td>   22.352</td> <td> 0.000</td> <td>    0.427</td> <td>    0.509</td>\n",
       "</tr>\n",
       "<tr>\n",
       "  <th>x2</th> <td>   -0.1859</td> <td>    0.023</td> <td>   -8.223</td> <td> 0.000</td> <td>   -0.230</td> <td>   -0.142</td>\n",
       "</tr>\n",
       "<tr>\n",
       "  <th>x3</th> <td>    0.1275</td> <td>    0.021</td> <td>    6.138</td> <td> 0.000</td> <td>    0.087</td> <td>    0.168</td>\n",
       "</tr>\n",
       "<tr>\n",
       "  <th>x4</th> <td>    0.1394</td> <td>    0.021</td> <td>    6.784</td> <td> 0.000</td> <td>    0.099</td> <td>    0.180</td>\n",
       "</tr>\n",
       "<tr>\n",
       "  <th>x5</th> <td>    0.1183</td> <td>    0.023</td> <td>    5.216</td> <td> 0.000</td> <td>    0.074</td> <td>    0.163</td>\n",
       "</tr>\n",
       "</table>\n",
       "<table class=\"simpletable\">\n",
       "<tr>\n",
       "  <th>Omnibus:</th>       <td>144.828</td> <th>  Durbin-Watson:     </th> <td>   1.641</td>\n",
       "</tr>\n",
       "<tr>\n",
       "  <th>Prob(Omnibus):</th> <td> 0.000</td>  <th>  Jarque-Bera (JB):  </th> <td> 236.306</td>\n",
       "</tr>\n",
       "<tr>\n",
       "  <th>Skew:</th>          <td> 0.658</td>  <th>  Prob(JB):          </th> <td>4.86e-52</td>\n",
       "</tr>\n",
       "<tr>\n",
       "  <th>Kurtosis:</th>      <td> 4.366</td>  <th>  Cond. No.          </th> <td>    1.65</td>\n",
       "</tr>\n",
       "</table><br/><br/>Notes:<br/>[1] R² is computed without centering (uncentered) since the model does not contain a constant.<br/>[2] Standard Errors assume that the covariance matrix of the errors is correctly specified."
      ],
      "text/plain": [
       "<class 'statsmodels.iolib.summary.Summary'>\n",
       "\"\"\"\n",
       "                                 OLS Regression Results                                \n",
       "=======================================================================================\n",
       "Dep. Variable:                      y   R-squared (uncentered):                   0.351\n",
       "Model:                            OLS   Adj. R-squared (uncentered):              0.349\n",
       "Method:                 Least Squares   F-statistic:                              170.0\n",
       "Date:                Wed, 14 Sep 2022   Prob (F-statistic):                   9.88e-145\n",
       "Time:                        03:01:20   Log-Likelihood:                         -1895.4\n",
       "No. Observations:                1576   AIC:                                      3801.\n",
       "Df Residuals:                    1571   BIC:                                      3828.\n",
       "Df Model:                           5                                                  \n",
       "Covariance Type:            nonrobust                                                  \n",
       "==============================================================================\n",
       "                 coef    std err          t      P>|t|      [0.025      0.975]\n",
       "------------------------------------------------------------------------------\n",
       "x1             0.4684      0.021     22.352      0.000       0.427       0.509\n",
       "x2            -0.1859      0.023     -8.223      0.000      -0.230      -0.142\n",
       "x3             0.1275      0.021      6.138      0.000       0.087       0.168\n",
       "x4             0.1394      0.021      6.784      0.000       0.099       0.180\n",
       "x5             0.1183      0.023      5.216      0.000       0.074       0.163\n",
       "==============================================================================\n",
       "Omnibus:                      144.828   Durbin-Watson:                   1.641\n",
       "Prob(Omnibus):                  0.000   Jarque-Bera (JB):              236.306\n",
       "Skew:                           0.658   Prob(JB):                     4.86e-52\n",
       "Kurtosis:                       4.366   Cond. No.                         1.65\n",
       "==============================================================================\n",
       "\n",
       "Notes:\n",
       "[1] R² is computed without centering (uncentered) since the model does not contain a constant.\n",
       "[2] Standard Errors assume that the covariance matrix of the errors is correctly specified.\n",
       "\"\"\""
      ]
     },
     "execution_count": 577,
     "metadata": {},
     "output_type": "execute_result"
    }
   ],
   "source": [
    "X_lin_2 = X[['metros2','calefaccion','cocina','situacion','anyo']]\n",
    "X_train = np.array(X_lin_2)\n",
    "Y_train = np.array(Y)\n",
    "lr = sm.OLS(Y_train, X_train).fit()\n",
    "lr.params\n",
    "lr.summary()"
   ]
  },
  {
   "cell_type": "markdown",
   "metadata": {},
   "source": [
    "Este es el conjunto de variables de X que representa de mejor manera a la variable dependiente Y: 'precios'"
   ]
  },
  {
   "cell_type": "markdown",
   "metadata": {},
   "source": [
    "##### b. Se crea un training y test split del mismo X para validar luego el error de la prediccion usando RMSE"
   ]
  },
  {
   "cell_type": "code",
   "execution_count": 578,
   "metadata": {},
   "outputs": [],
   "source": [
    "Xtrain,Xtest,Ytrain, Ytest =train_test_split(X[['metros2','calefaccion','cocina','situacion','anyo']], Y, test_size = 0.3)"
   ]
  },
  {
   "cell_type": "markdown",
   "metadata": {},
   "source": [
    "##### c. Por medio de un Pipeline se valida que tan bien esta entrenado el modelo"
   ]
  },
  {
   "cell_type": "code",
   "execution_count": 579,
   "metadata": {},
   "outputs": [
    {
     "data": {
      "text/plain": [
       "Pipeline(steps=[('linearregression', LinearRegression())])"
      ]
     },
     "execution_count": 579,
     "metadata": {},
     "output_type": "execute_result"
    }
   ],
   "source": [
    "pipeline = make_pipeline(LinearRegression())\n",
    "pipeline.fit(Xtrain, Ytrain)"
   ]
  },
  {
   "cell_type": "code",
   "execution_count": 580,
   "metadata": {},
   "outputs": [],
   "source": [
    "Ytrain_pred = pipeline.predict(Xtrain)\n",
    "Ytest_pred = pipeline.predict(Xtest)"
   ]
  },
  {
   "cell_type": "code",
   "execution_count": 581,
   "metadata": {},
   "outputs": [
    {
     "data": {
      "text/plain": [
       "0.8278"
      ]
     },
     "execution_count": 581,
     "metadata": {},
     "output_type": "execute_result"
    }
   ],
   "source": [
    "RMSE_train = math.sqrt(mean_squared_error(Ytrain, Ytrain_pred))\n",
    "np.round_(RMSE_train,4)"
   ]
  },
  {
   "cell_type": "code",
   "execution_count": 582,
   "metadata": {},
   "outputs": [
    {
     "data": {
      "text/plain": [
       "0.7525"
      ]
     },
     "execution_count": 582,
     "metadata": {},
     "output_type": "execute_result"
    }
   ],
   "source": [
    "RMSE_test = math.sqrt(mean_squared_error(Ytest, Ytest_pred))\n",
    "np.round_(RMSE_test,4)"
   ]
  },
  {
   "cell_type": "code",
   "execution_count": 583,
   "metadata": {},
   "outputs": [
    {
     "data": {
      "text/plain": [
       "(0.337, 0.3854)"
      ]
     },
     "execution_count": 583,
     "metadata": {},
     "output_type": "execute_result"
    }
   ],
   "source": [
    "np.round_(pipeline.score(Xtrain,Ytrain),4), np.round_(pipeline.score(Xtest,Ytest),4)"
   ]
  },
  {
   "cell_type": "markdown",
   "metadata": {},
   "source": [
    "El RMSE arrojado por estos modelos lineales (>= 80%) confirma que la regresion lineal NO es opcion viable para los datos estudiados."
   ]
  },
  {
   "cell_type": "markdown",
   "metadata": {},
   "source": [
    "#### 2. Regresion Ridge"
   ]
  },
  {
   "cell_type": "code",
   "execution_count": 584,
   "metadata": {},
   "outputs": [],
   "source": [
    "Xtrain,Xtest,Ytrain, Ytest =train_test_split(X[['metros2','calefaccion','cocina','situacion','anyo']], Y, test_size = 0.3)"
   ]
  },
  {
   "cell_type": "code",
   "execution_count": 585,
   "metadata": {},
   "outputs": [
    {
     "data": {
      "text/plain": [
       "Pipeline(steps=[('ridge', Ridge())])"
      ]
     },
     "execution_count": 585,
     "metadata": {},
     "output_type": "execute_result"
    }
   ],
   "source": [
    "pipeline = make_pipeline(Ridge(alpha=1.0))\n",
    "pipeline.fit(Xtrain, Ytrain)"
   ]
  },
  {
   "cell_type": "code",
   "execution_count": 586,
   "metadata": {},
   "outputs": [],
   "source": [
    "Ytrain_pred = pipeline.predict(Xtrain)\n",
    "Ytest_pred = pipeline.predict(Xtest)"
   ]
  },
  {
   "cell_type": "code",
   "execution_count": 587,
   "metadata": {},
   "outputs": [
    {
     "data": {
      "text/plain": [
       "0.7933"
      ]
     },
     "execution_count": 587,
     "metadata": {},
     "output_type": "execute_result"
    }
   ],
   "source": [
    "RMSE_train = math.sqrt(mean_squared_error(Ytrain, Ytrain_pred))\n",
    "np.round_(RMSE_train,4)"
   ]
  },
  {
   "cell_type": "code",
   "execution_count": 588,
   "metadata": {},
   "outputs": [
    {
     "data": {
      "text/plain": [
       "0.8364"
      ]
     },
     "execution_count": 588,
     "metadata": {},
     "output_type": "execute_result"
    }
   ],
   "source": [
    "RMSE_test = math.sqrt(mean_squared_error(Ytest, Ytest_pred))\n",
    "np.round_(RMSE_test,4)"
   ]
  },
  {
   "cell_type": "code",
   "execution_count": 589,
   "metadata": {},
   "outputs": [
    {
     "data": {
      "text/plain": [
       "(0.3532, 0.3401)"
      ]
     },
     "execution_count": 589,
     "metadata": {},
     "output_type": "execute_result"
    }
   ],
   "source": [
    "np.round_(pipeline.score(Xtrain,Ytrain),4), np.round_(pipeline.score(Xtest,Ytest),4)"
   ]
  },
  {
   "cell_type": "markdown",
   "metadata": {},
   "source": [
    "La regresion Ridge no mejoro los resultados obtenidos con el modelo OLS. El RMSE sigue en 80% aproximadamente. \n",
    "Al cambiar alpha en la regresion Ridge "
   ]
  },
  {
   "cell_type": "code",
   "execution_count": 590,
   "metadata": {},
   "outputs": [],
   "source": [
    "pipeline = make_pipeline(Ridge(alpha=0.5))\n",
    "pipeline.fit(Xtrain, Ytrain)\n",
    "Ytrain_pred = pipeline.predict(Xtrain)\n",
    "Ytest_pred = pipeline.predict(Xtest)"
   ]
  },
  {
   "cell_type": "code",
   "execution_count": 591,
   "metadata": {},
   "outputs": [
    {
     "data": {
      "text/plain": [
       "0.7933"
      ]
     },
     "execution_count": 591,
     "metadata": {},
     "output_type": "execute_result"
    }
   ],
   "source": [
    "RMSE_train = math.sqrt(mean_squared_error(Ytrain, Ytrain_pred))\n",
    "np.round_(RMSE_train,4)"
   ]
  },
  {
   "cell_type": "code",
   "execution_count": 592,
   "metadata": {},
   "outputs": [
    {
     "data": {
      "text/plain": [
       "0.8364"
      ]
     },
     "execution_count": 592,
     "metadata": {},
     "output_type": "execute_result"
    }
   ],
   "source": [
    "RMSE_test = math.sqrt(mean_squared_error(Ytest, Ytest_pred))\n",
    "np.round_(RMSE_test,4)"
   ]
  },
  {
   "cell_type": "code",
   "execution_count": 593,
   "metadata": {},
   "outputs": [
    {
     "data": {
      "text/plain": [
       "(0.3532, 0.3401)"
      ]
     },
     "execution_count": 593,
     "metadata": {},
     "output_type": "execute_result"
    }
   ],
   "source": [
    "np.round_(pipeline.score(Xtrain,Ytrain),4), np.round_(pipeline.score(Xtest,Ytest),4)"
   ]
  },
  {
   "cell_type": "markdown",
   "metadata": {},
   "source": [
    "#### 3. Regresion Lasso"
   ]
  },
  {
   "cell_type": "code",
   "execution_count": 594,
   "metadata": {},
   "outputs": [],
   "source": [
    "Xtrain,Xtest,Ytrain, Ytest =train_test_split(X[['metros2','calefaccion','cocina','situacion','anyo']], Y, test_size = 0.3)"
   ]
  },
  {
   "cell_type": "code",
   "execution_count": 595,
   "metadata": {},
   "outputs": [
    {
     "data": {
      "text/plain": [
       "Lasso(alpha=1)"
      ]
     },
     "execution_count": 595,
     "metadata": {},
     "output_type": "execute_result"
    }
   ],
   "source": [
    "lasso = Lasso(alpha=1)\n",
    "lasso.fit(Xtrain,Ytrain)"
   ]
  },
  {
   "cell_type": "code",
   "execution_count": 596,
   "metadata": {},
   "outputs": [],
   "source": [
    "Ytrain_pred = lasso.predict(Xtrain)\n",
    "Ytest_pred = lasso.predict(Xtest)"
   ]
  },
  {
   "cell_type": "code",
   "execution_count": 597,
   "metadata": {},
   "outputs": [
    {
     "data": {
      "text/plain": [
       "0.9949"
      ]
     },
     "execution_count": 597,
     "metadata": {},
     "output_type": "execute_result"
    }
   ],
   "source": [
    "RMSE_train = math.sqrt(mean_squared_error(Ytrain, Ytrain_pred))\n",
    "np.round_(RMSE_train,4)"
   ]
  },
  {
   "cell_type": "code",
   "execution_count": 598,
   "metadata": {},
   "outputs": [
    {
     "data": {
      "text/plain": [
       "1.0125"
      ]
     },
     "execution_count": 598,
     "metadata": {},
     "output_type": "execute_result"
    }
   ],
   "source": [
    "RMSE_test = math.sqrt(mean_squared_error(Ytest, Ytest_pred))\n",
    "np.round_(RMSE_test,4)"
   ]
  },
  {
   "cell_type": "code",
   "execution_count": 599,
   "metadata": {},
   "outputs": [
    {
     "data": {
      "text/plain": [
       "(0.0, -0.004)"
      ]
     },
     "execution_count": 599,
     "metadata": {},
     "output_type": "execute_result"
    }
   ],
   "source": [
    "np.round_(lasso.score(Xtrain,Ytrain),4), np.round_(lasso.score(Xtest,Ytest),4)"
   ]
  },
  {
   "cell_type": "markdown",
   "metadata": {},
   "source": [
    "Los resultados entregados por Lasso, fueron mucho peores que los de las otras dos regresiones lineales. Confirmado, la regresion lineal no es un buen ajuste para los datos estudiados. Cambiando el valor de alpha en la regresion lasso no genera cambios significativos en el RMSE."
   ]
  },
  {
   "cell_type": "markdown",
   "metadata": {},
   "source": [
    "#### 4. Regresion Lasso + Cross Validation"
   ]
  },
  {
   "cell_type": "code",
   "execution_count": 600,
   "metadata": {},
   "outputs": [],
   "source": [
    "Xtrain,Xtest,Ytrain, Ytest =train_test_split(X[['metros2','calefaccion','cocina','situacion','anyo']], Y, test_size = 0.3)"
   ]
  },
  {
   "cell_type": "code",
   "execution_count": 601,
   "metadata": {},
   "outputs": [],
   "source": [
    "lasso_cv = LassoCV(cv=5)"
   ]
  },
  {
   "cell_type": "code",
   "execution_count": 602,
   "metadata": {},
   "outputs": [
    {
     "name": "stderr",
     "output_type": "stream",
     "text": [
      "C:\\Users\\luisc\\AppData\\Local\\Packages\\PythonSoftwareFoundation.Python.3.9_qbz5n2kfra8p0\\LocalCache\\local-packages\\Python39\\site-packages\\sklearn\\linear_model\\_coordinate_descent.py:1572: DataConversionWarning: A column-vector y was passed when a 1d array was expected. Please change the shape of y to (n_samples, ), for example using ravel().\n",
      "  y = column_or_1d(y, warn=True)\n"
     ]
    },
    {
     "data": {
      "text/plain": [
       "LassoCV(cv=5)"
      ]
     },
     "execution_count": 602,
     "metadata": {},
     "output_type": "execute_result"
    }
   ],
   "source": [
    "lasso_cv.fit(Xtrain, Ytrain)"
   ]
  },
  {
   "cell_type": "code",
   "execution_count": 603,
   "metadata": {},
   "outputs": [],
   "source": [
    "Ytrain_pred = lasso_cv.predict(Xtrain)\n",
    "Ytest_pred = lasso_cv.predict(Xtest)"
   ]
  },
  {
   "cell_type": "code",
   "execution_count": 604,
   "metadata": {},
   "outputs": [
    {
     "data": {
      "text/plain": [
       "0.8152"
      ]
     },
     "execution_count": 604,
     "metadata": {},
     "output_type": "execute_result"
    }
   ],
   "source": [
    "RMSE_train = math.sqrt(mean_squared_error(Ytrain, Ytrain_pred))\n",
    "np.round_(RMSE_train,4)"
   ]
  },
  {
   "cell_type": "code",
   "execution_count": 605,
   "metadata": {},
   "outputs": [
    {
     "data": {
      "text/plain": [
       "0.7829"
      ]
     },
     "execution_count": 605,
     "metadata": {},
     "output_type": "execute_result"
    }
   ],
   "source": [
    "RMSE_test = math.sqrt(mean_squared_error(Ytest, Ytest_pred))\n",
    "np.round_(RMSE_test,4)"
   ]
  },
  {
   "cell_type": "code",
   "execution_count": 606,
   "metadata": {},
   "outputs": [
    {
     "data": {
      "text/plain": [
       "(0.3517, 0.3487)"
      ]
     },
     "execution_count": 606,
     "metadata": {},
     "output_type": "execute_result"
    }
   ],
   "source": [
    "np.round_(lasso_cv.score(Xtrain,Ytrain),4), np.round_(lasso_cv.score(Xtest,Ytest),4)"
   ]
  },
  {
   "cell_type": "markdown",
   "metadata": {},
   "source": [
    "Con 5 pasos en el Cross Validation, la regresion lasso mejora su resultado original, pero no mejora el ajuste a los datos obtenido por la regresion lineal sencilla y Ridge."
   ]
  },
  {
   "cell_type": "markdown",
   "metadata": {},
   "source": [
    "#### 5. Non-linear regression"
   ]
  },
  {
   "cell_type": "code",
   "execution_count": 607,
   "metadata": {},
   "outputs": [],
   "source": [
    "Xtrain,Xtest,Ytrain, Ytest =train_test_split(X[['metros2','calefaccion','cocina','situacion','anyo']], Y, test_size = 0.3)"
   ]
  },
  {
   "cell_type": "code",
   "execution_count": 608,
   "metadata": {},
   "outputs": [
    {
     "name": "stdout",
     "output_type": "stream",
     "text": [
      "0.1.0\n"
     ]
    }
   ],
   "source": [
    "print(pyearth.__version__)"
   ]
  },
  {
   "cell_type": "code",
   "execution_count": 609,
   "metadata": {},
   "outputs": [],
   "source": [
    "model = pyearth.Earth()"
   ]
  },
  {
   "cell_type": "code",
   "execution_count": 610,
   "metadata": {},
   "outputs": [
    {
     "name": "stderr",
     "output_type": "stream",
     "text": [
      "C:\\Users\\luisc\\AppData\\Local\\Packages\\PythonSoftwareFoundation.Python.3.9_qbz5n2kfra8p0\\LocalCache\\local-packages\\Python39\\site-packages\\pyearth\\earth.py:802: FutureWarning: `rcond` parameter will change to the default of machine precision times ``max(M, N)`` where M and N are the input matrix dimensions.\n",
      "To use the future default and silence this warning we advise to pass `rcond=None`, to keep using the old, explicitly pass `rcond=-1`.\n",
      "  pruning_passer.run()\n",
      "C:\\Users\\luisc\\AppData\\Local\\Packages\\PythonSoftwareFoundation.Python.3.9_qbz5n2kfra8p0\\LocalCache\\local-packages\\Python39\\site-packages\\pyearth\\earth.py:1055: FutureWarning: `rcond` parameter will change to the default of machine precision times ``max(M, N)`` where M and N are the input matrix dimensions.\n",
      "To use the future default and silence this warning we advise to pass `rcond=None`, to keep using the old, explicitly pass `rcond=-1`.\n",
      "  coef, resid = np.linalg.lstsq(B, weighted_y[:, i])[0:2]\n"
     ]
    },
    {
     "data": {
      "text/plain": [
       "Earth()"
      ]
     },
     "execution_count": 610,
     "metadata": {},
     "output_type": "execute_result"
    }
   ],
   "source": [
    "model.fit(Xtrain, Ytrain)"
   ]
  },
  {
   "cell_type": "code",
   "execution_count": 611,
   "metadata": {},
   "outputs": [],
   "source": [
    "Ytrain_pred = model.predict(Xtrain)\n",
    "Ytest_pred = model.predict(Xtest)"
   ]
  },
  {
   "cell_type": "code",
   "execution_count": 612,
   "metadata": {},
   "outputs": [
    {
     "name": "stdout",
     "output_type": "stream",
     "text": [
      "Earth Model\n",
      "-----------------------------------------\n",
      "Basis Function      Pruned  Coefficient  \n",
      "-----------------------------------------\n",
      "(Intercept)         No      0.0105773    \n",
      "metros2             No      0.452244     \n",
      "calefaccion         No      -0.176682    \n",
      "situacion           No      0.147212     \n",
      "anyo                No      0.141925     \n",
      "cocina              No      0.12129      \n",
      "h(metros2-2.34203)  Yes     None         \n",
      "h(2.34203-metros2)  Yes     None         \n",
      "-----------------------------------------\n",
      "MSE: 0.6678, GCV: 0.6844, RSQ: 0.3459, GRSQ: 0.3308\n"
     ]
    }
   ],
   "source": [
    "print(model.summary())"
   ]
  },
  {
   "cell_type": "code",
   "execution_count": 613,
   "metadata": {},
   "outputs": [
    {
     "data": {
      "text/plain": [
       "0.8172"
      ]
     },
     "execution_count": 613,
     "metadata": {},
     "output_type": "execute_result"
    }
   ],
   "source": [
    "RMSE_train = math.sqrt(mean_squared_error(Ytrain, Ytrain_pred))\n",
    "np.round_(RMSE_train,4)"
   ]
  },
  {
   "cell_type": "code",
   "execution_count": 614,
   "metadata": {},
   "outputs": [
    {
     "data": {
      "text/plain": [
       "0.78"
      ]
     },
     "execution_count": 614,
     "metadata": {},
     "output_type": "execute_result"
    }
   ],
   "source": [
    "RMSE_test = math.sqrt(mean_squared_error(Ytest, Ytest_pred))\n",
    "np.round_(RMSE_test,4)"
   ]
  },
  {
   "cell_type": "markdown",
   "metadata": {},
   "source": [
    "#### 6. Nonlinear + Cross Validation"
   ]
  },
  {
   "cell_type": "code",
   "execution_count": 615,
   "metadata": {},
   "outputs": [],
   "source": [
    "Xtrain,Xtest,Ytrain, Ytest =train_test_split(X[['metros2','calefaccion','cocina','situacion','anyo']], Y, test_size = 0.3)"
   ]
  },
  {
   "cell_type": "code",
   "execution_count": 616,
   "metadata": {},
   "outputs": [],
   "source": [
    "cv = RepeatedKFold(n_splits=100, n_repeats=10, random_state=42)\n",
    "n_scores = cross_val_score(model, Xtrain, Ytrain, scoring='neg_root_mean_squared_error', cv=cv, n_jobs=-1)"
   ]
  },
  {
   "cell_type": "code",
   "execution_count": 617,
   "metadata": {},
   "outputs": [
    {
     "name": "stdout",
     "output_type": "stream",
     "text": [
      "RMSE: -0.774 (0.188)\n"
     ]
    }
   ],
   "source": [
    "print('RMSE: %.3f (%.3f)' % (np.mean(n_scores), np.std(n_scores)))"
   ]
  },
  {
   "cell_type": "code",
   "execution_count": 787,
   "metadata": {},
   "outputs": [],
   "source": [
    "cv = RepeatedKFold(n_splits=100, n_repeats=10, random_state=42)\n",
    "n_scores = cross_val_score(model, Xtest, Ytest, scoring='neg_root_mean_squared_error', cv=cv, n_jobs=-1)"
   ]
  },
  {
   "cell_type": "code",
   "execution_count": 788,
   "metadata": {},
   "outputs": [
    {
     "name": "stdout",
     "output_type": "stream",
     "text": [
      "RMSE: -0.724 (0.255)\n"
     ]
    }
   ],
   "source": [
    "print('RMSE: %.3f (%.3f)' % (np.mean(n_scores), np.std(n_scores)))"
   ]
  },
  {
   "cell_type": "markdown",
   "metadata": {},
   "source": [
    "Nota: En este caso no se pueden utilizar: logistic regression y decision trees porque la variable dependiente Y (en este caso 'precios') es una variable numerica continua (no categorica como se requiere para dichos modelos). "
   ]
  },
  {
   "cell_type": "markdown",
   "metadata": {},
   "source": [
    "#### 7. Support Vector Machine (SVM)"
   ]
  },
  {
   "cell_type": "code",
   "execution_count": 729,
   "metadata": {},
   "outputs": [],
   "source": [
    "Xtrain,Xtest,Ytrain, Ytest =train_test_split(X[['metros2','calefaccion','cocina','situacion','anyo']], Y, test_size = 0.3)\n"
   ]
  },
  {
   "cell_type": "code",
   "execution_count": 730,
   "metadata": {},
   "outputs": [],
   "source": [
    "regr = svm.SVR()"
   ]
  },
  {
   "cell_type": "code",
   "execution_count": 731,
   "metadata": {},
   "outputs": [
    {
     "name": "stderr",
     "output_type": "stream",
     "text": [
      "C:\\Users\\luisc\\AppData\\Local\\Packages\\PythonSoftwareFoundation.Python.3.9_qbz5n2kfra8p0\\LocalCache\\local-packages\\Python39\\site-packages\\sklearn\\utils\\validation.py:985: DataConversionWarning: A column-vector y was passed when a 1d array was expected. Please change the shape of y to (n_samples, ), for example using ravel().\n",
      "  y = column_or_1d(y, warn=True)\n"
     ]
    },
    {
     "data": {
      "text/plain": [
       "SVR()"
      ]
     },
     "execution_count": 731,
     "metadata": {},
     "output_type": "execute_result"
    }
   ],
   "source": [
    "regr.fit(Xtrain, Ytrain)"
   ]
  },
  {
   "cell_type": "code",
   "execution_count": 732,
   "metadata": {},
   "outputs": [],
   "source": [
    "Ytrain_pred = regr.predict(Xtrain)\n",
    "Ytest_pred = regr.predict(Xtest)"
   ]
  },
  {
   "cell_type": "code",
   "execution_count": 733,
   "metadata": {},
   "outputs": [
    {
     "data": {
      "text/plain": [
       "0.7952"
      ]
     },
     "execution_count": 733,
     "metadata": {},
     "output_type": "execute_result"
    }
   ],
   "source": [
    "RMSE_train = math.sqrt(mean_squared_error(Ytrain, Ytrain_pred))\n",
    "np.round_(RMSE_train,4)"
   ]
  },
  {
   "cell_type": "code",
   "execution_count": 734,
   "metadata": {},
   "outputs": [
    {
     "data": {
      "text/plain": [
       "0.7483"
      ]
     },
     "execution_count": 734,
     "metadata": {},
     "output_type": "execute_result"
    }
   ],
   "source": [
    "RMSE_test = math.sqrt(mean_squared_error(Ytest, Ytest_pred))\n",
    "np.round_(RMSE_test,4)"
   ]
  },
  {
   "cell_type": "markdown",
   "metadata": {},
   "source": [
    "### (v) Comparacion de Modelos"
   ]
  },
  {
   "cell_type": "markdown",
   "metadata": {},
   "source": [
    "Todos los modelos utilizados arrojaron un RMSE para set de training cercano al 80% aproximadamente.\n",
    "Los modelos que mejor se comportaron fueron Non-Lin+CV y SVM con RMSE para el grupo de datos de test < 75%.\n",
    "\n",
    "A continuación se presentan los resultados de RMSE (train y test) obtenidos para cada modelo (organizados con base en RMSE test):"
   ]
  },
  {
   "cell_type": "code",
   "execution_count": 810,
   "metadata": {},
   "outputs": [
    {
     "data": {
      "text/html": [
       "<div>\n",
       "<style scoped>\n",
       "    .dataframe tbody tr th:only-of-type {\n",
       "        vertical-align: middle;\n",
       "    }\n",
       "\n",
       "    .dataframe tbody tr th {\n",
       "        vertical-align: top;\n",
       "    }\n",
       "\n",
       "    .dataframe thead th {\n",
       "        text-align: right;\n",
       "    }\n",
       "</style>\n",
       "<table border=\"1\" class=\"dataframe\">\n",
       "  <thead>\n",
       "    <tr style=\"text-align: right;\">\n",
       "      <th></th>\n",
       "      <th>Modelo</th>\n",
       "      <th>RMSE train</th>\n",
       "      <th>RMSE test</th>\n",
       "    </tr>\n",
       "  </thead>\n",
       "  <tbody>\n",
       "    <tr>\n",
       "      <th>0</th>\n",
       "      <td>Non-Lin+CV</td>\n",
       "      <td>0.7740</td>\n",
       "      <td>0.7240</td>\n",
       "    </tr>\n",
       "    <tr>\n",
       "      <th>1</th>\n",
       "      <td>SVM</td>\n",
       "      <td>0.7952</td>\n",
       "      <td>0.7483</td>\n",
       "    </tr>\n",
       "    <tr>\n",
       "      <th>2</th>\n",
       "      <td>Lineal</td>\n",
       "      <td>0.8278</td>\n",
       "      <td>0.7525</td>\n",
       "    </tr>\n",
       "    <tr>\n",
       "      <th>3</th>\n",
       "      <td>Lasso+CV</td>\n",
       "      <td>0.8152</td>\n",
       "      <td>0.7829</td>\n",
       "    </tr>\n",
       "    <tr>\n",
       "      <th>4</th>\n",
       "      <td>Non-Linear</td>\n",
       "      <td>0.8172</td>\n",
       "      <td>0.7800</td>\n",
       "    </tr>\n",
       "    <tr>\n",
       "      <th>5</th>\n",
       "      <td>Ridge</td>\n",
       "      <td>0.7933</td>\n",
       "      <td>0.8364</td>\n",
       "    </tr>\n",
       "    <tr>\n",
       "      <th>6</th>\n",
       "      <td>Lasso</td>\n",
       "      <td>0.9949</td>\n",
       "      <td>1.0125</td>\n",
       "    </tr>\n",
       "  </tbody>\n",
       "</table>\n",
       "</div>"
      ],
      "text/plain": [
       "       Modelo  RMSE train  RMSE test\n",
       "0  Non-Lin+CV      0.7740     0.7240\n",
       "1         SVM      0.7952     0.7483\n",
       "2      Lineal      0.8278     0.7525\n",
       "3    Lasso+CV      0.8152     0.7829\n",
       "4  Non-Linear      0.8172     0.7800\n",
       "5       Ridge      0.7933     0.8364\n",
       "6       Lasso      0.9949     1.0125"
      ]
     },
     "execution_count": 810,
     "metadata": {},
     "output_type": "execute_result"
    }
   ],
   "source": [
    "#Resumen_Reg = {'Modelo': ['Lineal', 'Ridge', 'Lasso', 'Lasso+CV','Non-Linear','Non-Lin+CV','SVM'],\n",
    " #       'RMSE train': [0.8278, 0.7933, 0.9949, 0.8152,0.8172 ,0.774 , 0.7952  ], \n",
    " #       'RMSE test': [0.7525, 0.8364, 1.0125, 0.7829,0.7800 ,0.724, 0.7483]}\n",
    "Resumen_Reg = {'Modelo': ['Non-Lin+CV','SVM','Lineal', 'Lasso+CV','Non-Linear','Ridge','Lasso'],\n",
    "        'RMSE train': [0.774, 0.7952, 0.8278,  0.8152,0.8172, 0.7933, 0.9949], \n",
    "        'RMSE test': [0.7240, 0.7483, 0.7525, 0.7829,0.7800, 0.8364, 1.0125]}\n",
    "Resumen_Reg = pd.DataFrame(Resumen_Reg)\n",
    "Resumen_Reg"
   ]
  },
  {
   "cell_type": "markdown",
   "metadata": {},
   "source": [
    "### (vi) Recomendaciones"
   ]
  },
  {
   "cell_type": "markdown",
   "metadata": {},
   "source": [
    "Por los resultados obtenidos no se recomienda ninguno de estos modelos para predecir el precio de los inmuebles estudiados.\n",
    "Esto puede ser debido a varias razones:\n",
    "\n",
    "(1) En las categorias de variables como 'situacion' hay un desbalance en los datos encontrados (hay mayor cantidad de datos de la categoria 2).\n",
    "\n",
    "(2) La variable 'metros2' a pesar de tener una distribucion normal y una correlacion relevante con 'precios' (48% aproximadamente), sus datos no describen una recta al relacionarse con 'precios'.\n",
    "\n",
    "(3) La gran mayoria de variables que se relacionan con 'precios' son  variables categoricas (excepto 'anyo' y 'metros2'), haciendo complejo su relacionamiento por el desbalance existente entre categorias. \n",
    "\n",
    "(4) Adicionalmente las correlaciones (utilizando el modelo de Pearson) mostraron valores muy bajos con la variable dependiente.\n",
    "\n",
    "Sin embargo, por el momento el mejor modelo para el set de datos estudiados es el No-Lin+CV. Sin embargo como los precios del set de datos Z no se tienen, si se quieren calcular no se puede usar el modelo No-Lin+CV, se debe usar SVM. Este ultimo modelo mencionado (SVM) se utilizara para predecir los precios de los inmuebles:"
   ]
  },
  {
   "cell_type": "code",
   "execution_count": null,
   "metadata": {},
   "outputs": [],
   "source": [
    "Z_mod = Z[['metros2','calefaccion','cocina','situacion','anyo']]\n",
    "W_pred = regr.predict(Z_mod)"
   ]
  },
  {
   "cell_type": "code",
   "execution_count": null,
   "metadata": {},
   "outputs": [],
   "source": [
    " W_pred_df = pd.DataFrame(W_pred)\n",
    " W_pred_df"
   ]
  },
  {
   "cell_type": "code",
   "execution_count": null,
   "metadata": {},
   "outputs": [],
   "source": [
    "precio_mean = bd_train[['precio']].mean()\n",
    "precio_std = bd_train[['precio']].std()\n",
    "print(precio_mean,precio_std)"
   ]
  },
  {
   "cell_type": "code",
   "execution_count": null,
   "metadata": {},
   "outputs": [],
   "source": [
    " precio_mean = precio_mean.to_numpy()\n",
    " precio_std = precio_std.to_numpy()\n",
    " W_pred = W_pred.reshape(393,1)"
   ]
  },
  {
   "cell_type": "code",
   "execution_count": null,
   "metadata": {},
   "outputs": [],
   "source": [
    "Precio_pred = (precio_std*W_pred)+precio_mean\n",
    "#Precio_pred\n",
    "Precio_pred = pd.DataFrame(Precio_pred)\n"
   ]
  },
  {
   "cell_type": "code",
   "execution_count": null,
   "metadata": {},
   "outputs": [],
   "source": [
    "Precio_pred.columns = ['Precio Predecido']"
   ]
  },
  {
   "cell_type": "code",
   "execution_count": null,
   "metadata": {},
   "outputs": [],
   "source": [
    "Precio_pred.to_excel('precios_pred.xlsx', sheet_name='sheet1', index=False)"
   ]
  },
  {
   "cell_type": "markdown",
   "metadata": {},
   "source": [
    "Para mejorar este set de datos se sugiere agregar las siguientes variables:\n",
    "\n",
    "(1) Estrato social;\n",
    "\n",
    "(2) Es nuevo o usado;\n",
    "\n",
    "(3) Numero de habitaciones;\n",
    "\n",
    "(4) Costo de los servicios publicos;\n",
    "\n",
    "(5) Tipo de vivienda (apartamento, casa, aparta estudio, otro);\n",
    "\n",
    "(6) Parqueadero;\n",
    "\n",
    "(7) Si tiene o no equipamiento aledaño (Centro comercial, hospital, parques, otro);\n",
    "\n",
    "(8) Si tiene o no proyeccion en el POT (esto aplicaria para el caso colombiano);\n",
    "\n",
    "(9) Si es una unidad residencial;\n",
    "\n",
    "(10) cuenta con zonas sociales, piscina, otro."
   ]
  },
  {
   "cell_type": "markdown",
   "metadata": {},
   "source": [
    "Para obtener un modelo predictivo de los precios, se sugiere convertir la variable precios (numerica continua) en un figura categorica. Con ello, los rangos de precios se convertirian en categorias y se podria identificar un inmueble en que categoria de precios se ubica. Ya dentro de esa categoria, se podría encontrar las variables numericas que permitan calcular el precio del inmueble. "
   ]
  },
  {
   "cell_type": "markdown",
   "metadata": {},
   "source": [
    "### (vii) Pendientes\n",
    "\n",
    "1. Quitar las variables categoricas de los graficos de correlacion. Solamente dejar las numericas.\n",
    "2. Remover duplicados. \n",
    "3. Convertir las variables precios, metros cuadrados y años en categorias. Modelar el problema con regresion logistica, Decision tree, random forest, XGBoost, ElasticNet\n",
    "4. Revisar que significado tienen los residuales en la regresion lineal normal. "
   ]
  }
 ],
 "metadata": {
  "kernelspec": {
   "display_name": "Python 3.9.13 64-bit (microsoft store)",
   "language": "python",
   "name": "python3"
  },
  "language_info": {
   "codemirror_mode": {
    "name": "ipython",
    "version": 3
   },
   "file_extension": ".py",
   "mimetype": "text/x-python",
   "name": "python",
   "nbconvert_exporter": "python",
   "pygments_lexer": "ipython3",
   "version": "3.9.13"
  },
  "orig_nbformat": 4,
  "vscode": {
   "interpreter": {
    "hash": "98171255d14943fb312a3ced32bc41f1ba1082196510a3a27b46e64306024b66"
   }
  }
 },
 "nbformat": 4,
 "nbformat_minor": 2
}

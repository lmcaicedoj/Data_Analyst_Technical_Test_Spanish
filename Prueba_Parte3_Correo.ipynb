{
 "cells": [
  {
   "cell_type": "code",
   "execution_count": 17,
   "metadata": {},
   "outputs": [
    {
     "name": "stdout",
     "output_type": "stream",
     "text": [
      "Este es el correo original: objimenez@gmail.com\n",
      "Este es el nombre del usuario: objimenez\n",
      "Este es el dominio del correo: gmail.com\n"
     ]
    }
   ],
   "source": [
    "# Extraccion del nombre de usuario y dominio de un correo:\n",
    "# Librerias:\n",
    "import re\n",
    "\n",
    "\n",
    "# Input del correo electronico:\n",
    "#email_ori = 'lmcaiced@gmail.com'\n",
    "email_ori = input(\"Digite por favor el correo que desea separar en componentes: \")\n",
    "   \n",
    "# Imprimiendo el correo original:\n",
    "print(\"Este es el correo original: \" + str(email_ori))\n",
    " \n",
    "# Encontrando el nombre de usuario del correo:\n",
    "regexStr = r'^([^@]+)@[^@]+$'\n",
    "matchobj = re.search(regexStr, email_ori)\n",
    "print (\"Este es el nombre del usuario: \" +matchobj.group(1))\n",
    " \n",
    "# Encontrando el dominio del correo:\n",
    "domain = email_ori[email_ori.index('@') + 1 : ]\n",
    " \n",
    "# printing result\n",
    "print(\"Este es el dominio del correo: \" + str(domain))"
   ]
  },
  {
   "cell_type": "markdown",
   "metadata": {},
   "source": []
  }
 ],
 "metadata": {
  "kernelspec": {
   "display_name": "Python 3.9.13 64-bit (microsoft store)",
   "language": "python",
   "name": "python3"
  },
  "language_info": {
   "codemirror_mode": {
    "name": "ipython",
    "version": 3
   },
   "file_extension": ".py",
   "mimetype": "text/x-python",
   "name": "python",
   "nbconvert_exporter": "python",
   "pygments_lexer": "ipython3",
   "version": "3.9.13"
  },
  "orig_nbformat": 4,
  "vscode": {
   "interpreter": {
    "hash": "98171255d14943fb312a3ced32bc41f1ba1082196510a3a27b46e64306024b66"
   }
  }
 },
 "nbformat": 4,
 "nbformat_minor": 2
}
